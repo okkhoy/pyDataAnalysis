{
 "cells": [
  {
   "cell_type": "markdown",
   "metadata": {},
   "source": [
    "# Python Functions"
   ]
  },
  {
   "cell_type": "code",
   "execution_count": 1,
   "metadata": {
    "collapsed": false
   },
   "outputs": [
    {
     "data": {
      "text/plain": [
       "3"
      ]
     },
     "execution_count": 1,
     "metadata": {},
     "output_type": "execute_result"
    }
   ],
   "source": [
    "x = 1\n",
    "y = 2\n",
    "x + y"
   ]
  },
  {
   "cell_type": "code",
   "execution_count": 2,
   "metadata": {
    "collapsed": false
   },
   "outputs": [
    {
     "data": {
      "text/plain": [
       "1"
      ]
     },
     "execution_count": 2,
     "metadata": {},
     "output_type": "execute_result"
    }
   ],
   "source": [
    "x"
   ]
  },
  {
   "cell_type": "code",
   "execution_count": 3,
   "metadata": {
    "collapsed": false
   },
   "outputs": [
    {
     "data": {
      "text/plain": [
       "3"
      ]
     },
     "execution_count": 3,
     "metadata": {},
     "output_type": "execute_result"
    }
   ],
   "source": [
    "def add_numbers(x, y):\n",
    "    return x + y\n",
    "\n",
    "add_numbers(1,2)"
   ]
  },
  {
   "cell_type": "code",
   "execution_count": 4,
   "metadata": {
    "collapsed": false
   },
   "outputs": [
    {
     "data": {
      "text/plain": [
       "6"
      ]
     },
     "execution_count": 4,
     "metadata": {},
     "output_type": "execute_result"
    }
   ],
   "source": [
    "def add_numbers(x, y, z):\n",
    "    return x + y + z\n",
    "\n",
    "add_numbers(1,2, 3)"
   ]
  },
  {
   "cell_type": "code",
   "execution_count": 6,
   "metadata": {
    "collapsed": false
   },
   "outputs": [
    {
     "name": "stdout",
     "output_type": "stream",
     "text": [
      "3\n",
      "6\n"
     ]
    }
   ],
   "source": [
    "def add_numbers(x, y, z = None):\n",
    "    if z == None:\n",
    "        return x + y\n",
    "    else:\n",
    "        return x + y + z\n",
    "\n",
    "print(add_numbers(1, 2))\n",
    "print(add_numbers(1, 2, 3))"
   ]
  },
  {
   "cell_type": "markdown",
   "metadata": {},
   "source": [
    "- Python allows optional parameters in the function declaration.\n",
    "- All optional paramenters should be placed after the mandatory parameters at the end in the function declaration."
   ]
  },
  {
   "cell_type": "code",
   "execution_count": 7,
   "metadata": {
    "collapsed": false
   },
   "outputs": [
    {
     "name": "stdout",
     "output_type": "stream",
     "text": [
      "3\n",
      "6\n",
      "Flag is true\n",
      "3\n"
     ]
    }
   ],
   "source": [
    "def add_numbers(x, y, z = None, flag=False):\n",
    "    if (flag):\n",
    "        print ('Flag is true')\n",
    "    if z == None:\n",
    "        return x + y\n",
    "    else:\n",
    "        return x + y + z\n",
    "\n",
    "print(add_numbers(1, 2))\n",
    "print(add_numbers(1, 2, 3))\n",
    "print(add_numbers(1, 2, flag=True))"
   ]
  },
  {
   "cell_type": "markdown",
   "metadata": {},
   "source": [
    "- Python allows assigning a function to a variable.\n",
    "- We can assign a function to a variable, by doing so, we can pass that variable into other functions, allowing some basic functional programming."
   ]
  },
  {
   "cell_type": "code",
   "execution_count": 8,
   "metadata": {
    "collapsed": false
   },
   "outputs": [
    {
     "data": {
      "text/plain": [
       "5"
      ]
     },
     "execution_count": 8,
     "metadata": {},
     "output_type": "execute_result"
    }
   ],
   "source": [
    "def add_numbers(x, y):\n",
    "    return x + y\n",
    "    \n",
    "a = add_numbers\n",
    "a(2,3)"
   ]
  },
  {
   "cell_type": "markdown",
   "metadata": {},
   "source": [
    "# Types and sequences"
   ]
  },
  {
   "cell_type": "code",
   "execution_count": 9,
   "metadata": {
    "collapsed": false
   },
   "outputs": [
    {
     "data": {
      "text/plain": [
       "str"
      ]
     },
     "execution_count": 9,
     "metadata": {},
     "output_type": "execute_result"
    }
   ],
   "source": [
    "type('String')"
   ]
  },
  {
   "cell_type": "code",
   "execution_count": 10,
   "metadata": {
    "collapsed": false
   },
   "outputs": [
    {
     "data": {
      "text/plain": [
       "NoneType"
      ]
     },
     "execution_count": 10,
     "metadata": {},
     "output_type": "execute_result"
    }
   ],
   "source": [
    "type(None)"
   ]
  },
  {
   "cell_type": "code",
   "execution_count": 11,
   "metadata": {
    "collapsed": false
   },
   "outputs": [
    {
     "data": {
      "text/plain": [
       "int"
      ]
     },
     "execution_count": 11,
     "metadata": {},
     "output_type": "execute_result"
    }
   ],
   "source": [
    "type(5)"
   ]
  },
  {
   "cell_type": "code",
   "execution_count": 12,
   "metadata": {
    "collapsed": false
   },
   "outputs": [
    {
     "data": {
      "text/plain": [
       "float"
      ]
     },
     "execution_count": 12,
     "metadata": {},
     "output_type": "execute_result"
    }
   ],
   "source": [
    "type(1.01)"
   ]
  },
  {
   "cell_type": "code",
   "execution_count": 13,
   "metadata": {
    "collapsed": false
   },
   "outputs": [
    {
     "data": {
      "text/plain": [
       "function"
      ]
     },
     "execution_count": 13,
     "metadata": {},
     "output_type": "execute_result"
    }
   ],
   "source": [
    "type(add_numbers)"
   ]
  },
  {
   "cell_type": "markdown",
   "metadata": {},
   "source": [
    "- Builtin `type` function tells which type the given reference is of.\n",
    "- See examples above.\n",
    "- Typed objects have properties associated with them, can be data or functions. \n",
    "\n",
    "## Three native kinds of collections in Python\n",
    "- Tuples\n",
    "- Lists\n",
    "- Dictionaries\n",
    "\n",
    "### Tuples\n",
    " - Tuple is a sequence of variables which is immutable itself - has ordering, cannot be changed once created.\n",
    " - Written using parantheses\n",
    " - Can mix types inside a tuple."
   ]
  },
  {
   "cell_type": "code",
   "execution_count": 15,
   "metadata": {
    "collapsed": false
   },
   "outputs": [
    {
     "data": {
      "text/plain": [
       "tuple"
      ]
     },
     "execution_count": 15,
     "metadata": {},
     "output_type": "execute_result"
    }
   ],
   "source": [
    "x = (1, 'a', 2, 'b')\n",
    "type(x)"
   ]
  },
  {
   "cell_type": "markdown",
   "metadata": {},
   "source": [
    "### Lists\n",
    " - Similar to tuples, but can be mutable - can change the length, number of elements and the element values \n",
    " - Declared using square brackets\n",
    " - Can change the contents of the list using different methods\n",
    "     - Using the `append` function: adds elements (appends) to the end of the list\n",
    "     - Using list indices"
   ]
  },
  {
   "cell_type": "code",
   "execution_count": 16,
   "metadata": {
    "collapsed": false
   },
   "outputs": [
    {
     "data": {
      "text/plain": [
       "list"
      ]
     },
     "execution_count": 16,
     "metadata": {},
     "output_type": "execute_result"
    }
   ],
   "source": [
    "x = [1, 'a', 2, 'b']\n",
    "type(x)"
   ]
  },
  {
   "cell_type": "code",
   "execution_count": 18,
   "metadata": {
    "collapsed": false
   },
   "outputs": [],
   "source": [
    "x.append(3.5)"
   ]
  },
  {
   "cell_type": "code",
   "execution_count": 19,
   "metadata": {
    "collapsed": false
   },
   "outputs": [
    {
     "name": "stdout",
     "output_type": "stream",
     "text": [
      "[1, 'a', 2, 'b', 3.5]\n"
     ]
    }
   ],
   "source": [
    "print(x)"
   ]
  },
  {
   "cell_type": "markdown",
   "metadata": {},
   "source": [
    "- Both `list`s and `tuple`s are iterable types - meaning, we can write loops to go through every value they hold\n",
    "- The norm is to use a `for` loop to look at each item in the list\n",
    " - No typing is required"
   ]
  },
  {
   "cell_type": "code",
   "execution_count": 20,
   "metadata": {
    "collapsed": false
   },
   "outputs": [
    {
     "name": "stdout",
     "output_type": "stream",
     "text": [
      "1\n",
      "a\n",
      "2\n",
      "b\n",
      "3.5\n"
     ]
    }
   ],
   "source": [
    "for item in x:\n",
    "    print(item)"
   ]
  },
  {
   "cell_type": "markdown",
   "metadata": {},
   "source": [
    "- We can also access elements of `list`/`tuple` like `arrays` using square bracket operator called the indexing operator.\n",
    "- Some basic mathematical operations are allowed on lists and tuples.\n",
    "- Examples:\n",
    " - Plus sign `+` concatenates lists\n",
    " - Asterisk `*` repeats the values of a list\n",
    " - `len` operator returns the length of the list\n",
    " - `in` operator looks at the *set membership* and returns boolean value of `True` if the item is present in the list, `False` otherwise."
   ]
  },
  {
   "cell_type": "code",
   "execution_count": 21,
   "metadata": {
    "collapsed": false
   },
   "outputs": [
    {
     "data": {
      "text/plain": [
       "[1, 2, 3, 4]"
      ]
     },
     "execution_count": 21,
     "metadata": {},
     "output_type": "execute_result"
    }
   ],
   "source": [
    "[1, 2] + [3, 4]"
   ]
  },
  {
   "cell_type": "code",
   "execution_count": 22,
   "metadata": {
    "collapsed": false
   },
   "outputs": [
    {
     "data": {
      "text/plain": [
       "['a', 'b', 'c', 1, 2, 3]"
      ]
     },
     "execution_count": 22,
     "metadata": {},
     "output_type": "execute_result"
    }
   ],
   "source": [
    "['a', 'b', 'c'] + [1, 2, 3]"
   ]
  },
  {
   "cell_type": "code",
   "execution_count": 23,
   "metadata": {
    "collapsed": false
   },
   "outputs": [
    {
     "data": {
      "text/plain": [
       "[1, 1, 1]"
      ]
     },
     "execution_count": 23,
     "metadata": {},
     "output_type": "execute_result"
    }
   ],
   "source": [
    "[1] * 3"
   ]
  },
  {
   "cell_type": "code",
   "execution_count": 24,
   "metadata": {
    "collapsed": false
   },
   "outputs": [
    {
     "data": {
      "text/plain": [
       "5"
      ]
     },
     "execution_count": 24,
     "metadata": {},
     "output_type": "execute_result"
    }
   ],
   "source": [
    "len(x)"
   ]
  },
  {
   "cell_type": "markdown",
   "metadata": {},
   "source": [
    "#### Slicing operation\n",
    "- Indexing operator (square brackets) allows us to submit multiple values, unlike array indexing in other languages like Java.\n",
    " - First parameter is the starting location.\n",
    "     - If this is the only element, then one item is returned from the list, item being specified by the parameter/index.\n",
    " - Second parameter is the end of the slice.\n",
    "     - The end is exclusive; i.e., if you do something like `myList[0:1]` only one element is returned the $0^{th}$ element.\n",
    " - *All strings are lists of characters*, so slicing works beautifully on them.\n",
    " - Indexing values can be negative; this means to index from the back of the string.\n",
    " - If we want to reference the start or end of the string, we simply leave the parameter empty."
   ]
  },
  {
   "cell_type": "code",
   "execution_count": 25,
   "metadata": {
    "collapsed": false
   },
   "outputs": [
    {
     "name": "stdout",
     "output_type": "stream",
     "text": [
      "T\n",
      "T\n",
      "Th\n",
      "g\n",
      "ri\n"
     ]
    }
   ],
   "source": [
    "x = \"This is a string\"\n",
    "print(x[0])\n",
    "print(x[0:1])\n",
    "print(x[0:2])\n",
    "print(x[-1]) # returns the last character of the string\n",
    "print(x[-4:-2]) # returns all characters from 4th last to the 2nd last positions"
   ]
  },
  {
   "cell_type": "code",
   "execution_count": 26,
   "metadata": {
    "collapsed": false
   },
   "outputs": [
    {
     "name": "stdout",
     "output_type": "stream",
     "text": [
      "a string\n",
      "This is a s\n"
     ]
    }
   ],
   "source": [
    "print(x[8:]) # from 8th character to the end\n",
    "print(x[:-5]) # from beginning to the 5th last character"
   ]
  },
  {
   "cell_type": "markdown",
   "metadata": {},
   "source": [
    "- Slicing is a core component of the Python language and is a big part of scientific computing with Python.\n",
    "\n",
    "#### Manipulating strings\n",
    "- Slicing is not the only way to manipulate strings.\n",
    "- A common operation is to split the string based on substrings.\n",
    "    - We can use patterns to split the string as per need and segment it appropriately.\n",
    "- All operations on list work on strings. `+` operator concatenates the strings `*` opertor repeates the given string.\n",
    "- String type has an associated function called `split`\n",
    "    - `split` breaks the string based on simple patterns."
   ]
  },
  {
   "cell_type": "code",
   "execution_count": 27,
   "metadata": {
    "collapsed": false
   },
   "outputs": [
    {
     "name": "stdout",
     "output_type": "stream",
     "text": [
      "akshay narayan\n",
      "akshayakshayakshay\n",
      "True\n"
     ]
    }
   ],
   "source": [
    "firstname = \"akshay\"\n",
    "lastname = \"narayan\"\n",
    "print(firstname + ' ' + lastname)\n",
    "print(firstname * 3)\n",
    "print('aks' in firstname)"
   ]
  },
  {
   "cell_type": "code",
   "execution_count": 28,
   "metadata": {
    "collapsed": false
   },
   "outputs": [
    {
     "name": "stdout",
     "output_type": "stream",
     "text": [
      "akshay\n",
      "narayan\n"
     ]
    }
   ],
   "source": [
    "firstname = \"akshay narayan\".split(' ')[0]\n",
    "lastname = \"akshay narayan\".split(' ')[-1]\n",
    "print(firstname)\n",
    "print(lastname)"
   ]
  },
  {
   "cell_type": "markdown",
   "metadata": {},
   "source": [
    "### Dictionaries \n",
    "- Labeled collection of items and do not have ordering.\n",
    "- It is a collection of `key:value` pairs, similar to `map` in other languages.\n",
    "    - To retrieve a value we need to provide the key.\n",
    "- Denoted using curly braces.\n",
    "    - While declaring we separate a pair of values using a colon `:`.\n",
    "    - Value can be retrieved using the indexing operator (square bracket) by specifying the label in place of the index.\n",
    "    - Types of indices and values can be anything\n",
    "    - New values are added using the same indexing operator and specifying new label (or key) and value.\n",
    "- Iterating over the values - there are a number of ways:\n",
    "    - Iterate over the `keys` and retrieve the `values`\n",
    "    - Iterate over the `values` themselves\n",
    "    - Iterate over both the `keys` and `values` at once using the `items()` function\n",
    "        - The last method is called *unpacking*.\n",
    "        - Extracting values in list or tuple to different variables using an assignment statement\n",
    "        - e.g. `x = [1, 2, 'three']` followed by `one, two, three = x`        "
   ]
  },
  {
   "cell_type": "code",
   "execution_count": 29,
   "metadata": {
    "collapsed": false
   },
   "outputs": [
    {
     "name": "stdout",
     "output_type": "stream",
     "text": [
      "gibberish@gmail.com\n",
      "gmail@gibberish.com\n"
     ]
    }
   ],
   "source": [
    "x = {'Akshay': 'gibberish@gmail.com', 'Narayan': 'gmail@gibberish.com'}\n",
    "print(x['Akshay'])\n",
    "print(x['Narayan'])"
   ]
  },
  {
   "cell_type": "code",
   "execution_count": 30,
   "metadata": {
    "collapsed": true
   },
   "outputs": [],
   "source": [
    "x['Blah'] = None"
   ]
  },
  {
   "cell_type": "code",
   "execution_count": 31,
   "metadata": {
    "collapsed": false
   },
   "outputs": [
    {
     "name": "stdout",
     "output_type": "stream",
     "text": [
      "{'Narayan': 'gmail@gibberish.com', 'Blah': None, 'Akshay': 'gibberish@gmail.com'}\n"
     ]
    }
   ],
   "source": [
    "print(x)"
   ]
  },
  {
   "cell_type": "code",
   "execution_count": 32,
   "metadata": {
    "collapsed": false
   },
   "outputs": [
    {
     "name": "stdout",
     "output_type": "stream",
     "text": [
      "gmail@gibberish.com\n",
      "None\n",
      "gibberish@gmail.com\n"
     ]
    }
   ],
   "source": [
    "# iterating over the keys\n",
    "for name in x:\n",
    "    print(x[name])"
   ]
  },
  {
   "cell_type": "code",
   "execution_count": 33,
   "metadata": {
    "collapsed": false
   },
   "outputs": [
    {
     "name": "stdout",
     "output_type": "stream",
     "text": [
      "gmail@gibberish.com\n",
      "None\n",
      "gibberish@gmail.com\n"
     ]
    }
   ],
   "source": [
    "# iterating over the values\n",
    "for email in x.values():\n",
    "    print(email)"
   ]
  },
  {
   "cell_type": "code",
   "execution_count": 34,
   "metadata": {
    "collapsed": false
   },
   "outputs": [
    {
     "name": "stdout",
     "output_type": "stream",
     "text": [
      "Narayan : gmail@gibberish.com\n",
      "Blah : None\n",
      "Akshay : gibberish@gmail.com\n"
     ]
    }
   ],
   "source": [
    "# iterating over the keys and values\n",
    "for name,email in x.items():\n",
    "    print (name, \":\", email)"
   ]
  },
  {
   "cell_type": "code",
   "execution_count": 35,
   "metadata": {
    "collapsed": false
   },
   "outputs": [
    {
     "data": {
      "text/plain": [
       "function"
      ]
     },
     "execution_count": 35,
     "metadata": {},
     "output_type": "execute_result"
    }
   ],
   "source": [
    "type(lambda x: x+1)"
   ]
  },
  {
   "cell_type": "markdown",
   "metadata": {},
   "source": [
    "### Strings\n",
    "- By default strings in Python 3.5 are UTF (Unicode Transformation Format) and can read strings in international character sets.\n",
    "- Due to dynamic typing, we need to explictly cast (do the type conversion) non strings to strings using `str()` function. E.g: `print('five' + str(5))`\n",
    "- Additionally Python provides a *mini language* for string formatting. \n",
    "    - This allows writing string statements with place holders for variables to beevaluated. \n",
    "    - Variables are then passed either 'named' or 'in order' as arguments. \n",
    "    - String formatting language allows various other manipulations, like controlling the number of decimal places for floating point numbers, prepending + sign for positive numbers, set alignment as left or right etc.,"
   ]
  },
  {
   "cell_type": "code",
   "execution_count": 36,
   "metadata": {
    "collapsed": false
   },
   "outputs": [
    {
     "name": "stdout",
     "output_type": "stream",
     "text": [
      "Akshay bought 4 item(s) at a price of 5.25 each for total 21.0\n"
     ]
    }
   ],
   "source": [
    "# example for string formatting\n",
    "sales_record = {'price': 5.25, 'num_items': 4, 'person' : 'Akshay'}\n",
    "\n",
    "sales_statement = '{} bought {} item(s) at a price of {} each for total {}'\n",
    "\n",
    "print(sales_statement.format(sales_record['person'], \n",
    "                             sales_record['num_items'], \n",
    "                             sales_record['price'], \n",
    "                             sales_record['num_items']*sales_record['price']))"
   ]
  },
  {
   "cell_type": "markdown",
   "metadata": {},
   "source": [
    "## Tutorial - Summary statistics from CSV files"
   ]
  },
  {
   "cell_type": "code",
   "execution_count": 38,
   "metadata": {
    "collapsed": false,
    "scrolled": true
   },
   "outputs": [
    {
     "data": {
      "text/plain": [
       "[{'': '1',\n",
       "  'class': 'compact',\n",
       "  'cty': '18',\n",
       "  'cyl': '4',\n",
       "  'displ': '1.8',\n",
       "  'drv': 'f',\n",
       "  'fl': 'p',\n",
       "  'hwy': '29',\n",
       "  'manufacturer': 'audi',\n",
       "  'model': 'a4',\n",
       "  'trans': 'auto(l5)',\n",
       "  'year': '1999'},\n",
       " {'': '2',\n",
       "  'class': 'compact',\n",
       "  'cty': '21',\n",
       "  'cyl': '4',\n",
       "  'displ': '1.8',\n",
       "  'drv': 'f',\n",
       "  'fl': 'p',\n",
       "  'hwy': '29',\n",
       "  'manufacturer': 'audi',\n",
       "  'model': 'a4',\n",
       "  'trans': 'manual(m5)',\n",
       "  'year': '1999'},\n",
       " {'': '3',\n",
       "  'class': 'compact',\n",
       "  'cty': '20',\n",
       "  'cyl': '4',\n",
       "  'displ': '2',\n",
       "  'drv': 'f',\n",
       "  'fl': 'p',\n",
       "  'hwy': '31',\n",
       "  'manufacturer': 'audi',\n",
       "  'model': 'a4',\n",
       "  'trans': 'manual(m6)',\n",
       "  'year': '2008'}]"
      ]
     },
     "execution_count": 38,
     "metadata": {},
     "output_type": "execute_result"
    }
   ],
   "source": [
    "import csv\n",
    "\n",
    "%precision 2\n",
    "\n",
    "with open('course1_downloads/mpg.csv') as csvfile:\n",
    "    mpg = list(csv.DictReader(csvfile))\n",
    "    \n",
    "mpg[:3]"
   ]
  },
  {
   "cell_type": "code",
   "execution_count": 39,
   "metadata": {
    "collapsed": false
   },
   "outputs": [
    {
     "data": {
      "text/plain": [
       "234"
      ]
     },
     "execution_count": 39,
     "metadata": {},
     "output_type": "execute_result"
    }
   ],
   "source": [
    "len(mpg)"
   ]
  },
  {
   "cell_type": "code",
   "execution_count": 40,
   "metadata": {
    "collapsed": false
   },
   "outputs": [
    {
     "data": {
      "text/plain": [
       "dict_keys(['', 'trans', 'manufacturer', 'fl', 'displ', 'hwy', 'year', 'cty', 'class', 'cyl', 'model', 'drv'])"
      ]
     },
     "execution_count": 40,
     "metadata": {},
     "output_type": "execute_result"
    }
   ],
   "source": [
    "mpg[0].keys()"
   ]
  },
  {
   "cell_type": "markdown",
   "metadata": {},
   "source": [
    "#### Task: Find the average MPG across all cars in the CSV file"
   ]
  },
  {
   "cell_type": "code",
   "execution_count": 42,
   "metadata": {
    "collapsed": false
   },
   "outputs": [
    {
     "name": "stdout",
     "output_type": "stream",
     "text": [
      "Average MPG across all cars:16.858974358974358\n"
     ]
    }
   ],
   "source": [
    "# Average city MPG: sum the city mpg entry across all dictionaries in the list and divide by length of the list\n",
    "print(\"Average MPG across all cars:\" + str(sum(float(d['cty']) for d in mpg)/len(mpg)))"
   ]
  },
  {
   "cell_type": "code",
   "execution_count": 43,
   "metadata": {
    "collapsed": false
   },
   "outputs": [
    {
     "name": "stdout",
     "output_type": "stream",
     "text": [
      "Average MPG across all cars:23.44017094017094\n"
     ]
    }
   ],
   "source": [
    "# Average highway MPG: sum highway mpg entry across all car-dictionaries in the list and divide by lenght of the list\n",
    "print(\"Average MPG across all cars:\" + str(sum(float(d['hwy']) for d in mpg)/len(mpg)))"
   ]
  },
  {
   "cell_type": "markdown",
   "metadata": {},
   "source": [
    "#### Task: Find the average MPG across all cars in the CSV file, grouped by the number of cylinders a car has"
   ]
  },
  {
   "cell_type": "code",
   "execution_count": 44,
   "metadata": {
    "collapsed": false
   },
   "outputs": [
    {
     "data": {
      "text/plain": [
       "{'4', '5', '6', '8'}"
      ]
     },
     "execution_count": 44,
     "metadata": {},
     "output_type": "execute_result"
    }
   ],
   "source": [
    "cylinders = set(d['cyl'] for d in mpg)\n",
    "cylinders"
   ]
  },
  {
   "cell_type": "code",
   "execution_count": 56,
   "metadata": {
    "collapsed": false
   },
   "outputs": [
    {
     "name": "stdout",
     "output_type": "stream",
     "text": [
      "[('4', 21.012345679012345), ('5', 20.5), ('6', 16.21518987341772), ('8', 12.571428571428571)]\n"
     ]
    }
   ],
   "source": [
    "cityMpgByCyl = []\n",
    "\n",
    "for c in cylinders:\n",
    "    summpg = 0\n",
    "    cyl_type_count = 0\n",
    "    for d in mpg:\n",
    "        if d['cyl'] == c:\n",
    "            summpg += float(d['cty'])\n",
    "            cyl_type_count += 1\n",
    "    cityMpgByCyl.append((c, summpg/cyl_type_count))\n",
    "\n",
    "cityMpgByCyl.sort(key = lambda x: x[0])\n",
    "print(cityMpgByCyl)"
   ]
  },
  {
   "cell_type": "markdown",
   "metadata": {},
   "source": [
    "#### Task: Find the average MPG across all cars in the CSV file, grouped by the vehicle class"
   ]
  },
  {
   "cell_type": "code",
   "execution_count": 57,
   "metadata": {
    "collapsed": false
   },
   "outputs": [
    {
     "name": "stdout",
     "output_type": "stream",
     "text": [
      "{'midsize', 'compact', 'suv', 'minivan', '2seater', 'pickup', 'subcompact'}\n"
     ]
    }
   ],
   "source": [
    "vehicle_class = set(d['class'] for d in mpg)\n",
    "print(vehicle_class)"
   ]
  },
  {
   "cell_type": "code",
   "execution_count": 59,
   "metadata": {
    "collapsed": false
   },
   "outputs": [
    {
     "name": "stdout",
     "output_type": "stream",
     "text": [
      "[('2seater', 24.8), ('compact', 28.29787234042553), ('midsize', 27.29268292682927), ('minivan', 22.363636363636363), ('pickup', 16.87878787878788), ('subcompact', 28.142857142857142), ('suv', 18.129032258064516)]\n"
     ]
    }
   ],
   "source": [
    "hwy_mpg_by_class = []\n",
    "\n",
    "for c in vehicle_class:\n",
    "    summpg = 0\n",
    "    class_type_count = 0\n",
    "    for d in mpg:\n",
    "        if d['class'] == c:\n",
    "            summpg += float(d['hwy'])\n",
    "            class_type_count += 1\n",
    "    hwy_mpg_by_class.append((c, summpg/class_type_count))\n",
    "    \n",
    "hwy_mpg_by_class.sort(key=lambda x: x[0])\n",
    "print(hwy_mpg_by_class)"
   ]
  },
  {
   "cell_type": "code",
   "execution_count": 60,
   "metadata": {
    "collapsed": false
   },
   "outputs": [
    {
     "name": "stdout",
     "output_type": "stream",
     "text": [
      "[('pickup', 16.87878787878788), ('suv', 18.129032258064516), ('minivan', 22.363636363636363), ('2seater', 24.8), ('midsize', 27.29268292682927), ('subcompact', 28.142857142857142), ('compact', 28.29787234042553)]\n"
     ]
    }
   ],
   "source": [
    "hwy_mpg_by_class.sort(key=lambda x: x[1])\n",
    "print(hwy_mpg_by_class)"
   ]
  },
  {
   "cell_type": "code",
   "execution_count": null,
   "metadata": {
    "collapsed": true
   },
   "outputs": [],
   "source": []
  }
 ],
 "metadata": {
  "kernelspec": {
   "display_name": "Python [default]",
   "language": "python",
   "name": "python3"
  },
  "language_info": {
   "codemirror_mode": {
    "name": "ipython",
    "version": 3
   },
   "file_extension": ".py",
   "mimetype": "text/x-python",
   "name": "python",
   "nbconvert_exporter": "python",
   "pygments_lexer": "ipython3",
   "version": "3.5.2"
  }
 },
 "nbformat": 4,
 "nbformat_minor": 1
}
