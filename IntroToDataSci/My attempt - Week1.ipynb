{
 "cells": [
  {
   "cell_type": "markdown",
   "metadata": {},
   "source": [
    "# Python Functions"
   ]
  },
  {
   "cell_type": "code",
   "execution_count": 1,
   "metadata": {
    "collapsed": false
   },
   "outputs": [
    {
     "data": {
      "text/plain": [
       "3"
      ]
     },
     "execution_count": 1,
     "metadata": {},
     "output_type": "execute_result"
    }
   ],
   "source": [
    "x = 1\n",
    "y = 2\n",
    "x + y"
   ]
  },
  {
   "cell_type": "code",
   "execution_count": 2,
   "metadata": {
    "collapsed": false
   },
   "outputs": [
    {
     "data": {
      "text/plain": [
       "1"
      ]
     },
     "execution_count": 2,
     "metadata": {},
     "output_type": "execute_result"
    }
   ],
   "source": [
    "x"
   ]
  },
  {
   "cell_type": "code",
   "execution_count": 3,
   "metadata": {
    "collapsed": false
   },
   "outputs": [
    {
     "data": {
      "text/plain": [
       "3"
      ]
     },
     "execution_count": 3,
     "metadata": {},
     "output_type": "execute_result"
    }
   ],
   "source": [
    "def add_numbers(x, y):\n",
    "    return x + y\n",
    "\n",
    "add_numbers(1,2)"
   ]
  },
  {
   "cell_type": "code",
   "execution_count": 4,
   "metadata": {
    "collapsed": false
   },
   "outputs": [
    {
     "data": {
      "text/plain": [
       "6"
      ]
     },
     "execution_count": 4,
     "metadata": {},
     "output_type": "execute_result"
    }
   ],
   "source": [
    "def add_numbers(x, y, z):\n",
    "    return x + y + z\n",
    "\n",
    "add_numbers(1,2, 3)"
   ]
  },
  {
   "cell_type": "code",
   "execution_count": 6,
   "metadata": {
    "collapsed": false
   },
   "outputs": [
    {
     "name": "stdout",
     "output_type": "stream",
     "text": [
      "3\n",
      "6\n"
     ]
    }
   ],
   "source": [
    "def add_numbers(x, y, z = None):\n",
    "    if z == None:\n",
    "        return x + y\n",
    "    else:\n",
    "        return x + y + z\n",
    "\n",
    "print(add_numbers(1, 2))\n",
    "print(add_numbers(1, 2, 3))"
   ]
  },
  {
   "cell_type": "markdown",
   "metadata": {},
   "source": [
    "- Python allows optional parameters in the function declaration.\n",
    "- All optional paramenters should be placed after the mandatory parameters at the end in the function declaration."
   ]
  },
  {
   "cell_type": "code",
   "execution_count": 7,
   "metadata": {
    "collapsed": false
   },
   "outputs": [
    {
     "name": "stdout",
     "output_type": "stream",
     "text": [
      "3\n",
      "6\n",
      "Flag is true\n",
      "3\n"
     ]
    }
   ],
   "source": [
    "def add_numbers(x, y, z = None, flag=False):\n",
    "    if (flag):\n",
    "        print ('Flag is true')\n",
    "    if z == None:\n",
    "        return x + y\n",
    "    else:\n",
    "        return x + y + z\n",
    "\n",
    "print(add_numbers(1, 2))\n",
    "print(add_numbers(1, 2, 3))\n",
    "print(add_numbers(1, 2, flag=True))"
   ]
  },
  {
   "cell_type": "markdown",
   "metadata": {},
   "source": [
    "- Python allows assigning a function to a variable.\n",
    "- We can assign a function to a variable, by doing so, we can pass that variable into other functions, allowing some basic functional programming."
   ]
  },
  {
   "cell_type": "code",
   "execution_count": 8,
   "metadata": {
    "collapsed": false
   },
   "outputs": [
    {
     "data": {
      "text/plain": [
       "5"
      ]
     },
     "execution_count": 8,
     "metadata": {},
     "output_type": "execute_result"
    }
   ],
   "source": [
    "def add_numbers(x, y):\n",
    "    return x + y\n",
    "    \n",
    "a = add_numbers\n",
    "a(2,3)"
   ]
  },
  {
   "cell_type": "markdown",
   "metadata": {},
   "source": [
    "# Types and sequences"
   ]
  },
  {
   "cell_type": "code",
   "execution_count": 9,
   "metadata": {
    "collapsed": false
   },
   "outputs": [
    {
     "data": {
      "text/plain": [
       "str"
      ]
     },
     "execution_count": 9,
     "metadata": {},
     "output_type": "execute_result"
    }
   ],
   "source": [
    "type('String')"
   ]
  },
  {
   "cell_type": "code",
   "execution_count": 10,
   "metadata": {
    "collapsed": false
   },
   "outputs": [
    {
     "data": {
      "text/plain": [
       "NoneType"
      ]
     },
     "execution_count": 10,
     "metadata": {},
     "output_type": "execute_result"
    }
   ],
   "source": [
    "type(None)"
   ]
  },
  {
   "cell_type": "code",
   "execution_count": 11,
   "metadata": {
    "collapsed": false
   },
   "outputs": [
    {
     "data": {
      "text/plain": [
       "int"
      ]
     },
     "execution_count": 11,
     "metadata": {},
     "output_type": "execute_result"
    }
   ],
   "source": [
    "type(5)"
   ]
  },
  {
   "cell_type": "code",
   "execution_count": 12,
   "metadata": {
    "collapsed": false
   },
   "outputs": [
    {
     "data": {
      "text/plain": [
       "float"
      ]
     },
     "execution_count": 12,
     "metadata": {},
     "output_type": "execute_result"
    }
   ],
   "source": [
    "type(1.01)"
   ]
  },
  {
   "cell_type": "code",
   "execution_count": 13,
   "metadata": {
    "collapsed": false
   },
   "outputs": [
    {
     "data": {
      "text/plain": [
       "function"
      ]
     },
     "execution_count": 13,
     "metadata": {},
     "output_type": "execute_result"
    }
   ],
   "source": [
    "type(add_numbers)"
   ]
  },
  {
   "cell_type": "markdown",
   "metadata": {},
   "source": [
    "- Builtin `type` function tells which type the given reference is of.\n",
    "- See examples above.\n",
    "- Typed objects have properties associated with them, can be data or functions. \n",
    "\n",
    "## Three native kinds of collections in Python\n",
    "- Tuples\n",
    "- Lists\n",
    "- Dictionaries\n",
    "\n",
    "### Tuples\n",
    " - Tuple is a sequence of variables which is immutable itself - has ordering, cannot be changed once created.\n",
    " - Written using parantheses\n",
    " - Can mix types inside a tuple."
   ]
  },
  {
   "cell_type": "code",
   "execution_count": 15,
   "metadata": {
    "collapsed": false
   },
   "outputs": [
    {
     "data": {
      "text/plain": [
       "tuple"
      ]
     },
     "execution_count": 15,
     "metadata": {},
     "output_type": "execute_result"
    }
   ],
   "source": [
    "x = (1, 'a', 2, 'b')\n",
    "type(x)"
   ]
  },
  {
   "cell_type": "markdown",
   "metadata": {},
   "source": [
    "### Lists\n",
    " - Similar to tuples, but can be mutable - can change the length, number of elements and the element values \n",
    " - Declared using square brackets\n",
    " - Can change the contents of the list using different methods\n",
    "     - Using the `append` function: adds elements (appends) to the end of the list\n",
    "     - Using list indices"
   ]
  },
  {
   "cell_type": "code",
   "execution_count": 16,
   "metadata": {
    "collapsed": false
   },
   "outputs": [
    {
     "data": {
      "text/plain": [
       "list"
      ]
     },
     "execution_count": 16,
     "metadata": {},
     "output_type": "execute_result"
    }
   ],
   "source": [
    "x = [1, 'a', 2, 'b']\n",
    "type(x)"
   ]
  },
  {
   "cell_type": "code",
   "execution_count": 18,
   "metadata": {
    "collapsed": false
   },
   "outputs": [],
   "source": [
    "x.append(3.5)"
   ]
  },
  {
   "cell_type": "code",
   "execution_count": 19,
   "metadata": {
    "collapsed": false
   },
   "outputs": [
    {
     "name": "stdout",
     "output_type": "stream",
     "text": [
      "[1, 'a', 2, 'b', 3.5]\n"
     ]
    }
   ],
   "source": [
    "print(x)"
   ]
  },
  {
   "cell_type": "markdown",
   "metadata": {},
   "source": [
    "- Both `list`s and `tuple`s are iterable types - meaning, we can write loops to go through every value they hold\n",
    "- The norm is to use a `for` loop to look at each item in the list\n",
    " - No typing is required"
   ]
  },
  {
   "cell_type": "code",
   "execution_count": 20,
   "metadata": {
    "collapsed": false
   },
   "outputs": [
    {
     "name": "stdout",
     "output_type": "stream",
     "text": [
      "1\n",
      "a\n",
      "2\n",
      "b\n",
      "3.5\n"
     ]
    }
   ],
   "source": [
    "for item in x:\n",
    "    print(item)"
   ]
  },
  {
   "cell_type": "markdown",
   "metadata": {},
   "source": [
    "- We can also access elements of `list`/`tuple` like `arrays` using square bracket operator called the indexing operator.\n",
    "- Some basic mathematical operations are allowed on lists and tuples.\n",
    "- Examples:\n",
    " - Plus sign `+` concatenates lists\n",
    " - Asterisk `*` repeats the values of a list\n",
    " - `len` operator returns the length of the list\n",
    " - `in` operator looks at the *set membership* and returns boolean value of `True` if the item is present in the list, `False` otherwise."
   ]
  },
  {
   "cell_type": "code",
   "execution_count": 21,
   "metadata": {
    "collapsed": false
   },
   "outputs": [
    {
     "data": {
      "text/plain": [
       "[1, 2, 3, 4]"
      ]
     },
     "execution_count": 21,
     "metadata": {},
     "output_type": "execute_result"
    }
   ],
   "source": [
    "[1, 2] + [3, 4]"
   ]
  },
  {
   "cell_type": "code",
   "execution_count": 22,
   "metadata": {
    "collapsed": false
   },
   "outputs": [
    {
     "data": {
      "text/plain": [
       "['a', 'b', 'c', 1, 2, 3]"
      ]
     },
     "execution_count": 22,
     "metadata": {},
     "output_type": "execute_result"
    }
   ],
   "source": [
    "['a', 'b', 'c'] + [1, 2, 3]"
   ]
  },
  {
   "cell_type": "code",
   "execution_count": 23,
   "metadata": {
    "collapsed": false
   },
   "outputs": [
    {
     "data": {
      "text/plain": [
       "[1, 1, 1]"
      ]
     },
     "execution_count": 23,
     "metadata": {},
     "output_type": "execute_result"
    }
   ],
   "source": [
    "[1] * 3"
   ]
  },
  {
   "cell_type": "code",
   "execution_count": 24,
   "metadata": {
    "collapsed": false
   },
   "outputs": [
    {
     "data": {
      "text/plain": [
       "5"
      ]
     },
     "execution_count": 24,
     "metadata": {},
     "output_type": "execute_result"
    }
   ],
   "source": [
    "len(x)"
   ]
  },
  {
   "cell_type": "markdown",
   "metadata": {},
   "source": [
    "#### Slicing operation\n",
    "- Indexing operator (square brackets) allows us to submit multiple values, unlike array indexing in other languages like Java.\n",
    " - First parameter is the starting location.\n",
    "     - If this is the only element, then one item is returned from the list, item being specified by the parameter/index.\n",
    " - Second parameter is the end of the slice.\n",
    "     - The end is exclusive; i.e., if you do something like `myList[0:1]` only one element is returned the $0^{th}$ element.\n",
    " - *All strings are lists of characters*, so slicing works beautifully on them.\n",
    " - Indexing values can be negative; this means to index from the back of the string.\n",
    " - If we want to reference the start or end of the string, we simply leave the parameter empty."
   ]
  },
  {
   "cell_type": "code",
   "execution_count": 25,
   "metadata": {
    "collapsed": false
   },
   "outputs": [
    {
     "name": "stdout",
     "output_type": "stream",
     "text": [
      "T\n",
      "T\n",
      "Th\n",
      "g\n",
      "ri\n"
     ]
    }
   ],
   "source": [
    "x = \"This is a string\"\n",
    "print(x[0])\n",
    "print(x[0:1])\n",
    "print(x[0:2])\n",
    "print(x[-1]) # returns the last character of the string\n",
    "print(x[-4:-2]) # returns all characters from 4th last to the 2nd last positions"
   ]
  },
  {
   "cell_type": "code",
   "execution_count": 26,
   "metadata": {
    "collapsed": false
   },
   "outputs": [
    {
     "name": "stdout",
     "output_type": "stream",
     "text": [
      "a string\n",
      "This is a s\n"
     ]
    }
   ],
   "source": [
    "print(x[8:]) # from 8th character to the end\n",
    "print(x[:-5]) # from beginning to the 5th last character"
   ]
  },
  {
   "cell_type": "markdown",
   "metadata": {},
   "source": [
    "- Slicing is a core component of the Python language and is a big part of scientific computing with Python.\n",
    "\n",
    "#### Manipulating strings\n",
    "- Slicing is not the only way to manipulate strings.\n",
    "- A common operation is to split the string based on substrings.\n",
    "    - We can use patterns to split the string as per need and segment it appropriately.\n",
    "- All operations on list work on strings. `+` operator concatenates the strings `*` opertor repeates the given string.\n",
    "- String type has an associated function called `split`\n",
    "    - `split` breaks the string based on simple patterns."
   ]
  },
  {
   "cell_type": "code",
   "execution_count": 27,
   "metadata": {
    "collapsed": false
   },
   "outputs": [
    {
     "name": "stdout",
     "output_type": "stream",
     "text": [
      "akshay narayan\n",
      "akshayakshayakshay\n",
      "True\n"
     ]
    }
   ],
   "source": [
    "firstname = \"akshay\"\n",
    "lastname = \"narayan\"\n",
    "print(firstname + ' ' + lastname)\n",
    "print(firstname * 3)\n",
    "print('aks' in firstname)"
   ]
  },
  {
   "cell_type": "code",
   "execution_count": 28,
   "metadata": {
    "collapsed": false
   },
   "outputs": [
    {
     "name": "stdout",
     "output_type": "stream",
     "text": [
      "akshay\n",
      "narayan\n"
     ]
    }
   ],
   "source": [
    "firstname = \"akshay narayan\".split(' ')[0]\n",
    "lastname = \"akshay narayan\".split(' ')[-1]\n",
    "print(firstname)\n",
    "print(lastname)"
   ]
  },
  {
   "cell_type": "markdown",
   "metadata": {},
   "source": [
    "### Dictionaries \n",
    "- Labeled collection of items and do not have ordering.\n",
    "- It is a collection of `key:value` pairs, similar to `map` in other languages.\n",
    "    - To retrieve a value we need to provide the key.\n",
    "- Denoted using curly braces.\n",
    "    - While declaring we separate a pair of values using a colon `:`.\n",
    "    - Value can be retrieved using the indexing operator (square bracket) by specifying the label in place of the index.\n",
    "    - Types of indices and values can be anything\n",
    "    - New values are added using the same indexing operator and specifying new label (or key) and value.\n",
    "- Iterating over the values - there are a number of ways:\n",
    "    - Iterate over the `keys` and retrieve the `values`\n",
    "    - Iterate over the `values` themselves\n",
    "    - Iterate over both the `keys` and `values` at once using the `items()` function\n",
    "        - The last method is called *unpacking*.\n",
    "        - Extracting values in list or tuple to different variables using an assignment statement\n",
    "        - e.g. `x = [1, 2, 'three']` followed by `one, two, three = x`        "
   ]
  },
  {
   "cell_type": "code",
   "execution_count": 29,
   "metadata": {
    "collapsed": false
   },
   "outputs": [
    {
     "name": "stdout",
     "output_type": "stream",
     "text": [
      "gibberish@gmail.com\n",
      "gmail@gibberish.com\n"
     ]
    }
   ],
   "source": [
    "x = {'Akshay': 'gibberish@gmail.com', 'Narayan': 'gmail@gibberish.com'}\n",
    "print(x['Akshay'])\n",
    "print(x['Narayan'])"
   ]
  },
  {
   "cell_type": "code",
   "execution_count": 30,
   "metadata": {
    "collapsed": true
   },
   "outputs": [],
   "source": [
    "x['Blah'] = None"
   ]
  },
  {
   "cell_type": "code",
   "execution_count": 31,
   "metadata": {
    "collapsed": false
   },
   "outputs": [
    {
     "name": "stdout",
     "output_type": "stream",
     "text": [
      "{'Narayan': 'gmail@gibberish.com', 'Blah': None, 'Akshay': 'gibberish@gmail.com'}\n"
     ]
    }
   ],
   "source": [
    "print(x)"
   ]
  },
  {
   "cell_type": "code",
   "execution_count": 32,
   "metadata": {
    "collapsed": false
   },
   "outputs": [
    {
     "name": "stdout",
     "output_type": "stream",
     "text": [
      "gmail@gibberish.com\n",
      "None\n",
      "gibberish@gmail.com\n"
     ]
    }
   ],
   "source": [
    "# iterating over the keys\n",
    "for name in x:\n",
    "    print(x[name])"
   ]
  },
  {
   "cell_type": "code",
   "execution_count": 33,
   "metadata": {
    "collapsed": false
   },
   "outputs": [
    {
     "name": "stdout",
     "output_type": "stream",
     "text": [
      "gmail@gibberish.com\n",
      "None\n",
      "gibberish@gmail.com\n"
     ]
    }
   ],
   "source": [
    "# iterating over the values\n",
    "for email in x.values():\n",
    "    print(email)"
   ]
  },
  {
   "cell_type": "code",
   "execution_count": 34,
   "metadata": {
    "collapsed": false
   },
   "outputs": [
    {
     "name": "stdout",
     "output_type": "stream",
     "text": [
      "Narayan : gmail@gibberish.com\n",
      "Blah : None\n",
      "Akshay : gibberish@gmail.com\n"
     ]
    }
   ],
   "source": [
    "# iterating over the keys and values\n",
    "for name,email in x.items():\n",
    "    print (name, \":\", email)"
   ]
  },
  {
   "cell_type": "code",
   "execution_count": 35,
   "metadata": {
    "collapsed": false
   },
   "outputs": [
    {
     "data": {
      "text/plain": [
       "function"
      ]
     },
     "execution_count": 35,
     "metadata": {},
     "output_type": "execute_result"
    }
   ],
   "source": [
    "type(lambda x: x+1)"
   ]
  },
  {
   "cell_type": "markdown",
   "metadata": {},
   "source": [
    "### Strings\n",
    "- By default strings in Python 3.5 are UTF (Unicode Transformation Format) and can read strings in international character sets.\n",
    "- Due to dynamic typing, we need to explictly cast (do the type conversion) non strings to strings using `str()` function. E.g: `print('five' + str(5))`\n",
    "- Additionally Python provides a *mini language* for string formatting. \n",
    "    - This allows writing string statements with place holders for variables to beevaluated. \n",
    "    - Variables are then passed either 'named' or 'in order' as arguments. \n",
    "    - String formatting language allows various other manipulations, like controlling the number of decimal places for floating point numbers, prepending + sign for positive numbers, set alignment as left or right etc.,"
   ]
  },
  {
   "cell_type": "code",
   "execution_count": 36,
   "metadata": {
    "collapsed": false
   },
   "outputs": [
    {
     "name": "stdout",
     "output_type": "stream",
     "text": [
      "Akshay bought 4 item(s) at a price of 5.25 each for total 21.0\n"
     ]
    }
   ],
   "source": [
    "# example for string formatting\n",
    "sales_record = {'price': 5.25, 'num_items': 4, 'person' : 'Akshay'}\n",
    "\n",
    "sales_statement = '{} bought {} item(s) at a price of {} each for total {}'\n",
    "\n",
    "print(sales_statement.format(sales_record['person'], \n",
    "                             sales_record['num_items'], \n",
    "                             sales_record['price'], \n",
    "                             sales_record['num_items']*sales_record['price']))"
   ]
  },
  {
   "cell_type": "markdown",
   "metadata": {},
   "source": [
    "## Tutorial - Summary statistics from CSV files"
   ]
  },
  {
   "cell_type": "code",
   "execution_count": 38,
   "metadata": {
    "collapsed": false,
    "scrolled": true
   },
   "outputs": [
    {
     "data": {
      "text/plain": [
       "[{'': '1',\n",
       "  'class': 'compact',\n",
       "  'cty': '18',\n",
       "  'cyl': '4',\n",
       "  'displ': '1.8',\n",
       "  'drv': 'f',\n",
       "  'fl': 'p',\n",
       "  'hwy': '29',\n",
       "  'manufacturer': 'audi',\n",
       "  'model': 'a4',\n",
       "  'trans': 'auto(l5)',\n",
       "  'year': '1999'},\n",
       " {'': '2',\n",
       "  'class': 'compact',\n",
       "  'cty': '21',\n",
       "  'cyl': '4',\n",
       "  'displ': '1.8',\n",
       "  'drv': 'f',\n",
       "  'fl': 'p',\n",
       "  'hwy': '29',\n",
       "  'manufacturer': 'audi',\n",
       "  'model': 'a4',\n",
       "  'trans': 'manual(m5)',\n",
       "  'year': '1999'},\n",
       " {'': '3',\n",
       "  'class': 'compact',\n",
       "  'cty': '20',\n",
       "  'cyl': '4',\n",
       "  'displ': '2',\n",
       "  'drv': 'f',\n",
       "  'fl': 'p',\n",
       "  'hwy': '31',\n",
       "  'manufacturer': 'audi',\n",
       "  'model': 'a4',\n",
       "  'trans': 'manual(m6)',\n",
       "  'year': '2008'}]"
      ]
     },
     "execution_count": 38,
     "metadata": {},
     "output_type": "execute_result"
    }
   ],
   "source": [
    "import csv\n",
    "\n",
    "%precision 2\n",
    "\n",
    "with open('course1_downloads/mpg.csv') as csvfile:\n",
    "    mpg = list(csv.DictReader(csvfile))\n",
    "    \n",
    "mpg[:3]"
   ]
  },
  {
   "cell_type": "code",
   "execution_count": 39,
   "metadata": {
    "collapsed": false
   },
   "outputs": [
    {
     "data": {
      "text/plain": [
       "234"
      ]
     },
     "execution_count": 39,
     "metadata": {},
     "output_type": "execute_result"
    }
   ],
   "source": [
    "len(mpg)"
   ]
  },
  {
   "cell_type": "code",
   "execution_count": 40,
   "metadata": {
    "collapsed": false
   },
   "outputs": [
    {
     "data": {
      "text/plain": [
       "dict_keys(['', 'trans', 'manufacturer', 'fl', 'displ', 'hwy', 'year', 'cty', 'class', 'cyl', 'model', 'drv'])"
      ]
     },
     "execution_count": 40,
     "metadata": {},
     "output_type": "execute_result"
    }
   ],
   "source": [
    "mpg[0].keys()"
   ]
  },
  {
   "cell_type": "markdown",
   "metadata": {},
   "source": [
    "#### Task: Find the average MPG across all cars in the CSV file"
   ]
  },
  {
   "cell_type": "code",
   "execution_count": 42,
   "metadata": {
    "collapsed": false
   },
   "outputs": [
    {
     "name": "stdout",
     "output_type": "stream",
     "text": [
      "Average MPG across all cars:16.858974358974358\n"
     ]
    }
   ],
   "source": [
    "# Average city MPG: sum the city mpg entry across all dictionaries in the list and divide by length of the list\n",
    "print(\"Average MPG across all cars:\" + str(sum(float(d['cty']) for d in mpg)/len(mpg)))"
   ]
  },
  {
   "cell_type": "code",
   "execution_count": 43,
   "metadata": {
    "collapsed": false
   },
   "outputs": [
    {
     "name": "stdout",
     "output_type": "stream",
     "text": [
      "Average MPG across all cars:23.44017094017094\n"
     ]
    }
   ],
   "source": [
    "# Average highway MPG: sum highway mpg entry across all car-dictionaries in the list and divide by lenght of the list\n",
    "print(\"Average MPG across all cars:\" + str(sum(float(d['hwy']) for d in mpg)/len(mpg)))"
   ]
  },
  {
   "cell_type": "markdown",
   "metadata": {},
   "source": [
    "#### Task: Find the average MPG across all cars in the CSV file, grouped by the number of cylinders a car has"
   ]
  },
  {
   "cell_type": "code",
   "execution_count": 44,
   "metadata": {
    "collapsed": false
   },
   "outputs": [
    {
     "data": {
      "text/plain": [
       "{'4', '5', '6', '8'}"
      ]
     },
     "execution_count": 44,
     "metadata": {},
     "output_type": "execute_result"
    }
   ],
   "source": [
    "cylinders = set(d['cyl'] for d in mpg)\n",
    "cylinders"
   ]
  },
  {
   "cell_type": "code",
   "execution_count": 56,
   "metadata": {
    "collapsed": false
   },
   "outputs": [
    {
     "name": "stdout",
     "output_type": "stream",
     "text": [
      "[('4', 21.012345679012345), ('5', 20.5), ('6', 16.21518987341772), ('8', 12.571428571428571)]\n"
     ]
    }
   ],
   "source": [
    "cityMpgByCyl = []\n",
    "\n",
    "for c in cylinders:\n",
    "    summpg = 0\n",
    "    cyl_type_count = 0\n",
    "    for d in mpg:\n",
    "        if d['cyl'] == c:\n",
    "            summpg += float(d['cty'])\n",
    "            cyl_type_count += 1\n",
    "    cityMpgByCyl.append((c, summpg/cyl_type_count))\n",
    "\n",
    "cityMpgByCyl.sort(key = lambda x: x[0])\n",
    "print(cityMpgByCyl)"
   ]
  },
  {
   "cell_type": "markdown",
   "metadata": {},
   "source": [
    "#### Task: Find the average MPG across all cars in the CSV file, grouped by the vehicle class"
   ]
  },
  {
   "cell_type": "code",
   "execution_count": 57,
   "metadata": {
    "collapsed": false
   },
   "outputs": [
    {
     "name": "stdout",
     "output_type": "stream",
     "text": [
      "{'midsize', 'compact', 'suv', 'minivan', '2seater', 'pickup', 'subcompact'}\n"
     ]
    }
   ],
   "source": [
    "vehicle_class = set(d['class'] for d in mpg)\n",
    "print(vehicle_class)"
   ]
  },
  {
   "cell_type": "code",
   "execution_count": 59,
   "metadata": {
    "collapsed": false
   },
   "outputs": [
    {
     "name": "stdout",
     "output_type": "stream",
     "text": [
      "[('2seater', 24.8), ('compact', 28.29787234042553), ('midsize', 27.29268292682927), ('minivan', 22.363636363636363), ('pickup', 16.87878787878788), ('subcompact', 28.142857142857142), ('suv', 18.129032258064516)]\n"
     ]
    }
   ],
   "source": [
    "hwy_mpg_by_class = []\n",
    "\n",
    "for c in vehicle_class:\n",
    "    summpg = 0\n",
    "    class_type_count = 0\n",
    "    for d in mpg:\n",
    "        if d['class'] == c:\n",
    "            summpg += float(d['hwy'])\n",
    "            class_type_count += 1\n",
    "    hwy_mpg_by_class.append((c, summpg/class_type_count))\n",
    "    \n",
    "hwy_mpg_by_class.sort(key=lambda x: x[0])\n",
    "print(hwy_mpg_by_class)"
   ]
  },
  {
   "cell_type": "code",
   "execution_count": 60,
   "metadata": {
    "collapsed": false
   },
   "outputs": [
    {
     "name": "stdout",
     "output_type": "stream",
     "text": [
      "[('pickup', 16.87878787878788), ('suv', 18.129032258064516), ('minivan', 22.363636363636363), ('2seater', 24.8), ('midsize', 27.29268292682927), ('subcompact', 28.142857142857142), ('compact', 28.29787234042553)]\n"
     ]
    }
   ],
   "source": [
    "hwy_mpg_by_class.sort(key=lambda x: x[1])\n",
    "print(hwy_mpg_by_class)"
   ]
  },
  {
   "cell_type": "markdown",
   "metadata": {},
   "source": [
    "# Date and time"
   ]
  },
  {
   "cell_type": "markdown",
   "metadata": {},
   "source": [
    "- Epoch: Jan 1, 1970.\n",
    "- Like many other languages, times are sometimes stored as number of seconds or milliseconds from the epoch.\n",
    "    - `time` module gives the current time since epoch\n",
    "    - This time value needs to be converted to correct format to make sense of the date and time\n",
    "- `fromtimestamp` method in `datetime` module can be used to convert the timestamp to readable format"
   ]
  },
  {
   "cell_type": "code",
   "execution_count": 61,
   "metadata": {
    "collapsed": true
   },
   "outputs": [],
   "source": [
    "import datetime as dt\n",
    "import time as tm"
   ]
  },
  {
   "cell_type": "code",
   "execution_count": 62,
   "metadata": {
    "collapsed": false
   },
   "outputs": [
    {
     "data": {
      "text/plain": [
       "1479281293.02"
      ]
     },
     "execution_count": 62,
     "metadata": {},
     "output_type": "execute_result"
    }
   ],
   "source": [
    "tm.time()"
   ]
  },
  {
   "cell_type": "code",
   "execution_count": 63,
   "metadata": {
    "collapsed": false
   },
   "outputs": [
    {
     "data": {
      "text/plain": [
       "datetime.datetime(2016, 11, 16, 15, 30, 57, 47670)"
      ]
     },
     "execution_count": 63,
     "metadata": {},
     "output_type": "execute_result"
    }
   ],
   "source": [
    "dtnow = dt.datetime.fromtimestamp(tm.time())\n",
    "dtnow"
   ]
  },
  {
   "cell_type": "code",
   "execution_count": 64,
   "metadata": {
    "collapsed": false
   },
   "outputs": [
    {
     "data": {
      "text/plain": [
       "(2016, 11, 16, 15, 30, 57)"
      ]
     },
     "execution_count": 64,
     "metadata": {},
     "output_type": "execute_result"
    }
   ],
   "source": [
    "dtnow.year, dtnow.month, dtnow.day, dtnow.hour, dtnow.minute, dtnow.second"
   ]
  },
  {
   "cell_type": "markdown",
   "metadata": {},
   "source": [
    "- Time deltas are used for some basic math operation using time; can be used to create sliding windows\n",
    "    - e.g. get the date 7 days ago"
   ]
  },
  {
   "cell_type": "code",
   "execution_count": 65,
   "metadata": {
    "collapsed": false
   },
   "outputs": [
    {
     "data": {
      "text/plain": [
       "datetime.timedelta(7)"
      ]
     },
     "execution_count": 65,
     "metadata": {},
     "output_type": "execute_result"
    }
   ],
   "source": [
    "delta = dt.timedelta(days=7) # gives a 7 day time delta\n",
    "delta"
   ]
  },
  {
   "cell_type": "code",
   "execution_count": 66,
   "metadata": {
    "collapsed": false
   },
   "outputs": [
    {
     "data": {
      "text/plain": [
       "datetime.date(2016, 11, 9)"
      ]
     },
     "execution_count": 66,
     "metadata": {},
     "output_type": "execute_result"
    }
   ],
   "source": [
    "today = dt.date.today()\n",
    "today -delta"
   ]
  },
  {
   "cell_type": "markdown",
   "metadata": {},
   "source": [
    "# `map` function\n",
    "\n",
    "- Basis for functional programming in Python.\n",
    "    - Side effect free programming\n",
    "- Functional programming helps chaining operations together\n",
    "    - Functional programming allows passing a function as a parameter of another function\n",
    "    - Particularly useful in data cleaning and data preparation\n",
    "\n",
    "- `map` function signature: `map(function, iterable, ...)`\n",
    "    - The first parameter is the function that has to be executed.\n",
    "    - The second and following parameters are something that can be iterated upon.\n",
    "    - Returns an iterator that applies `function` to every element in the `iterable`, yielding the results. \n",
    "        - It doesn't return the list containign the results. \n",
    "        - This is due to lazy evaluation. \n",
    "        - Allows efficient memory management when dealing with big data.\n",
    "        - Even if computation is heavy, the memory requirement is less as only concerned items are operated upon.\n",
    "    - If additional `iterables` are passed (notices the \"`...`\"?), the `function` should take that many arguments.\n",
    "    - The `function` is applied to items from all `iterables` in parallel.\n",
    "    - All the iterable items are unpacked together and passed to the function\n",
    "    \n",
    "- Example:\n",
    "    - Consider items' prices from two different stores and we need to find the minimum we have to pay if we bought the cheaper items between the two stores.\n",
    "    - Traditional way to do this is to iterate through the list, compare the item prices and choose the cheapest.\n",
    "    - `map` allows us to do this in one line."
   ]
  },
  {
   "cell_type": "code",
   "execution_count": 67,
   "metadata": {
    "collapsed": false
   },
   "outputs": [
    {
     "data": {
      "text/plain": [
       "<map at 0x3067ab0>"
      ]
     },
     "execution_count": 67,
     "metadata": {},
     "output_type": "execute_result"
    }
   ],
   "source": [
    "store1 = [10.0, 11.0, 12.25, 2.50]\n",
    "store2 = [9.0, 11.0, 12.25, 3.0]\n",
    "cheapest = map(min, store1, store2)\n",
    "cheapest"
   ]
  },
  {
   "cell_type": "code",
   "execution_count": 68,
   "metadata": {
    "collapsed": false
   },
   "outputs": [
    {
     "name": "stdout",
     "output_type": "stream",
     "text": [
      "9.0\n",
      "11.0\n",
      "12.25\n",
      "2.5\n"
     ]
    }
   ],
   "source": [
    "for c in cheapest:\n",
    "    print (c)"
   ]
  },
  {
   "cell_type": "markdown",
   "metadata": {},
   "source": [
    "#  `lambda`s and list comprehensions\n",
    "\n",
    "- Pythons way of creating anonynmous functions - functions with no names; useful to get small simple stuff working withoug having to declare and code a function.\n",
    "- Syntax:\n",
    "    - Declare using the keyword `lambda` followed by a list of arguments, followed by a colon `:` and a single expression.\n",
    "- The key difference between lambdas and normal functions is that in a lambda  there is only one expression to be evaluated.\n",
    "- The expression value is returned on execution of the `lambda`\n",
    "    - Return of lambda is a function reference.\n",
    "\n",
    "- **Note**: \n",
    "    - We cannot have default values for lambdas\n",
    "    - We cannot have complex logic inside of the lambda since it is limited to one expression.  "
   ]
  },
  {
   "cell_type": "code",
   "execution_count": 69,
   "metadata": {
    "collapsed": false
   },
   "outputs": [
    {
     "data": {
      "text/plain": [
       "3"
      ]
     },
     "execution_count": 69,
     "metadata": {},
     "output_type": "execute_result"
    }
   ],
   "source": [
    "my_func = lambda a,b,c: a+b\n",
    "my_func(1,2,3)"
   ]
  },
  {
   "cell_type": "code",
   "execution_count": 70,
   "metadata": {
    "collapsed": false
   },
   "outputs": [
    {
     "name": "stdout",
     "output_type": "stream",
     "text": [
      "True\n",
      "True\n",
      "True\n",
      "True\n"
     ]
    },
    {
     "data": {
      "text/plain": [
       "True"
      ]
     },
     "execution_count": 70,
     "metadata": {},
     "output_type": "execute_result"
    }
   ],
   "source": [
    "# Task: split the name to get salutation followed by last name\n",
    "people = ['Dr. Christopher Brooks', 'Dr. Kevyn Collins-Thompson', 'Dr. VG Vinod Vydiswaran', 'Dr. Daniel Romero']\n",
    "\n",
    "# traditional function way\n",
    "def split_title_and_name(person):\n",
    "    return person.split()[0] + ' ' + person.split()[-1]\n",
    "\n",
    "#option 1: the lambda way with looping\n",
    "for person in people:\n",
    "    print(split_title_and_name(person) == (lambda x: x.split()[0] + ' ' + x.split()[-1])(person))\n",
    "\n",
    "#option 2: the lambda way with map\n",
    "list(map(split_title_and_name, people)) == list(map(lambda person: person.split()[0] + ' ' + person.split()[-1], people))"
   ]
  },
  {
   "cell_type": "markdown",
   "metadata": {},
   "source": [
    "# list comprehension\n",
    "- An easy readable way to generate a list of items, more Pythonic and often faster than iteration."
   ]
  },
  {
   "cell_type": "code",
   "execution_count": 71,
   "metadata": {
    "collapsed": false
   },
   "outputs": [
    {
     "data": {
      "text/plain": [
       "True"
      ]
     },
     "execution_count": 71,
     "metadata": {},
     "output_type": "execute_result"
    }
   ],
   "source": [
    "# task: convert the following function to list comprehension\n",
    "def times_tables():\n",
    "    lst = []\n",
    "    for i in range(10):\n",
    "        for j in range (10):\n",
    "            lst.append(i*j)\n",
    "    return lst\n",
    "\n",
    "times_tables() == [i * j for i in range(10) for j in range(10)]"
   ]
  },
  {
   "cell_type": "code",
   "execution_count": 74,
   "metadata": {
    "collapsed": false
   },
   "outputs": [],
   "source": [
    "# Task: User ids are 2 letters followed by 2 numbers (e.g., aa49)\n",
    "# Write an initialization line as a single list comprehension which creates a list of all possible user ids.\n",
    "# Assume letters are all lower case\n",
    "\n",
    "lowercase = 'abcdefghijklmnopqrstuvwxyz'\n",
    "digits = '0123456789'\n",
    "\n",
    "answer = [i+j+k+l for i in lowercase for j in lowercase for k in digits for l in digits] "
   ]
  },
  {
   "cell_type": "code",
   "execution_count": 75,
   "metadata": {
    "collapsed": false
   },
   "outputs": [
    {
     "data": {
      "text/plain": [
       "['aa00',\n",
       " 'aa01',\n",
       " 'aa02',\n",
       " 'aa03',\n",
       " 'aa04',\n",
       " 'aa05',\n",
       " 'aa06',\n",
       " 'aa07',\n",
       " 'aa08',\n",
       " 'aa09',\n",
       " 'aa10',\n",
       " 'aa11',\n",
       " 'aa12',\n",
       " 'aa13',\n",
       " 'aa14',\n",
       " 'aa15',\n",
       " 'aa16',\n",
       " 'aa17',\n",
       " 'aa18',\n",
       " 'aa19']"
      ]
     },
     "execution_count": 75,
     "metadata": {},
     "output_type": "execute_result"
    }
   ],
   "source": [
    "answer[:20]"
   ]
  },
  {
   "cell_type": "markdown",
   "metadata": {},
   "source": [
    "# Intro to `numpy` \n"
   ]
  },
  {
   "cell_type": "code",
   "execution_count": 76,
   "metadata": {
    "collapsed": true
   },
   "outputs": [],
   "source": [
    "import numpy as np"
   ]
  },
  {
   "cell_type": "markdown",
   "metadata": {},
   "source": [
    "### Creating arrays"
   ]
  },
  {
   "cell_type": "code",
   "execution_count": 77,
   "metadata": {
    "collapsed": false
   },
   "outputs": [
    {
     "data": {
      "text/plain": [
       "array([1, 2, 3])"
      ]
     },
     "execution_count": 77,
     "metadata": {},
     "output_type": "execute_result"
    }
   ],
   "source": [
    "mylist = [1,2,3]\n",
    "x = np.array(mylist)\n",
    "x"
   ]
  },
  {
   "cell_type": "code",
   "execution_count": 79,
   "metadata": {
    "collapsed": false
   },
   "outputs": [
    {
     "data": {
      "text/plain": [
       "array([[ 7,  8,  9],\n",
       "       [10, 11, 12]])"
      ]
     },
     "execution_count": 79,
     "metadata": {},
     "output_type": "execute_result"
    }
   ],
   "source": [
    "y = np.array([[7, 8, 9], [10, 11, 12]])\n",
    "y"
   ]
  },
  {
   "cell_type": "code",
   "execution_count": 80,
   "metadata": {
    "collapsed": false
   },
   "outputs": [
    {
     "data": {
      "text/plain": [
       "(2, 3)"
      ]
     },
     "execution_count": 80,
     "metadata": {},
     "output_type": "execute_result"
    }
   ],
   "source": [
    "y.shape # returns the dimensionality of the array"
   ]
  },
  {
   "cell_type": "code",
   "execution_count": 83,
   "metadata": {
    "collapsed": true
   },
   "outputs": [],
   "source": [
    "n = np.arange(10, 30, 2) # start, end, step End is exclusive"
   ]
  },
  {
   "cell_type": "code",
   "execution_count": 84,
   "metadata": {
    "collapsed": false
   },
   "outputs": [
    {
     "data": {
      "text/plain": [
       "array([10, 12, 14, 16, 18, 20, 22, 24, 26, 28])"
      ]
     },
     "execution_count": 84,
     "metadata": {},
     "output_type": "execute_result"
    }
   ],
   "source": [
    "n"
   ]
  },
  {
   "cell_type": "code",
   "execution_count": 85,
   "metadata": {
    "collapsed": false
   },
   "outputs": [
    {
     "data": {
      "text/plain": [
       "array([[ 0,  1,  2,  3,  4,  5],\n",
       "       [ 6,  7,  8,  9, 10, 11],\n",
       "       [12, 13, 14, 15, 16, 17],\n",
       "       [18, 19, 20, 21, 22, 23],\n",
       "       [24, 25, 26, 27, 28, 29],\n",
       "       [30, 31, 32, 33, 34, 35]])"
      ]
     },
     "execution_count": 85,
     "metadata": {},
     "output_type": "execute_result"
    }
   ],
   "source": [
    "n = np.arange(0,36,1)\n",
    "n.reshape(6,6)"
   ]
  },
  {
   "cell_type": "code",
   "execution_count": 86,
   "metadata": {
    "collapsed": false
   },
   "outputs": [
    {
     "data": {
      "text/plain": [
       "(36,)"
      ]
     },
     "execution_count": 86,
     "metadata": {},
     "output_type": "execute_result"
    }
   ],
   "source": [
    "n.shape"
   ]
  },
  {
   "cell_type": "code",
   "execution_count": 87,
   "metadata": {
    "collapsed": true
   },
   "outputs": [],
   "source": [
    "n = n.reshape(6,6)"
   ]
  },
  {
   "cell_type": "code",
   "execution_count": 88,
   "metadata": {
    "collapsed": false
   },
   "outputs": [
    {
     "data": {
      "text/plain": [
       "(6, 6)"
      ]
     },
     "execution_count": 88,
     "metadata": {},
     "output_type": "execute_result"
    }
   ],
   "source": [
    "n.shape"
   ]
  },
  {
   "cell_type": "code",
   "execution_count": 89,
   "metadata": {
    "collapsed": false
   },
   "outputs": [
    {
     "data": {
      "text/plain": [
       "array([[ 5],\n",
       "       [11],\n",
       "       [17],\n",
       "       [23],\n",
       "       [29],\n",
       "       [35]])"
      ]
     },
     "execution_count": 89,
     "metadata": {},
     "output_type": "execute_result"
    }
   ],
   "source": [
    "n[0:6,::-7]"
   ]
  },
  {
   "cell_type": "code",
   "execution_count": 90,
   "metadata": {
    "collapsed": false
   },
   "outputs": [
    {
     "data": {
      "text/plain": [
       "array([[0, 1, 2, 3, 4, 5]])"
      ]
     },
     "execution_count": 90,
     "metadata": {},
     "output_type": "execute_result"
    }
   ],
   "source": [
    "n[::7]"
   ]
  },
  {
   "cell_type": "code",
   "execution_count": 91,
   "metadata": {
    "collapsed": false
   },
   "outputs": [
    {
     "data": {
      "text/plain": [
       "array([ 0,  7, 14, 21, 28, 35])"
      ]
     },
     "execution_count": 91,
     "metadata": {},
     "output_type": "execute_result"
    }
   ],
   "source": [
    "n.reshape(36)[::7]"
   ]
  },
  {
   "cell_type": "code",
   "execution_count": 92,
   "metadata": {
    "collapsed": false
   },
   "outputs": [
    {
     "data": {
      "text/plain": [
       "array([[ 0],\n",
       "       [ 6],\n",
       "       [12],\n",
       "       [18],\n",
       "       [24],\n",
       "       [30]])"
      ]
     },
     "execution_count": 92,
     "metadata": {},
     "output_type": "execute_result"
    }
   ],
   "source": [
    "n[:, ::7]"
   ]
  },
  {
   "cell_type": "code",
   "execution_count": 93,
   "metadata": {
    "collapsed": false
   },
   "outputs": [
    {
     "data": {
      "text/plain": [
       "array([[14, 15],\n",
       "       [20, 21]])"
      ]
     },
     "execution_count": 93,
     "metadata": {},
     "output_type": "execute_result"
    }
   ],
   "source": [
    "n[2:4,2:4]"
   ]
  },
  {
   "cell_type": "markdown",
   "metadata": {},
   "source": [
    "### Slicing/ Indexing"
   ]
  },
  {
   "cell_type": "code",
   "execution_count": 94,
   "metadata": {
    "collapsed": false
   },
   "outputs": [
    {
     "data": {
      "text/plain": [
       "array([[ 0,  1,  2,  3,  4,  5],\n",
       "       [ 6,  7,  8,  9, 10, 11],\n",
       "       [12, 13, 14, 15, 16, 17],\n",
       "       [18, 19, 20, 21, 22, 23],\n",
       "       [24, 25, 26, 27, 28, 29],\n",
       "       [30, 31, 32, 33, 34, 35]])"
      ]
     },
     "execution_count": 94,
     "metadata": {},
     "output_type": "execute_result"
    }
   ],
   "source": [
    "n"
   ]
  },
  {
   "cell_type": "code",
   "execution_count": 95,
   "metadata": {
    "collapsed": false
   },
   "outputs": [
    {
     "data": {
      "text/plain": [
       "(6, 6)"
      ]
     },
     "execution_count": 95,
     "metadata": {},
     "output_type": "execute_result"
    }
   ],
   "source": [
    "n.shape"
   ]
  },
  {
   "cell_type": "code",
   "execution_count": 96,
   "metadata": {
    "collapsed": true
   },
   "outputs": [],
   "source": [
    "m = n.reshape(36)"
   ]
  },
  {
   "cell_type": "code",
   "execution_count": 97,
   "metadata": {
    "collapsed": false
   },
   "outputs": [
    {
     "data": {
      "text/plain": [
       "array([ 0,  1,  2,  3,  4,  5,  6,  7,  8,  9, 10, 11, 12, 13, 14, 15, 16,\n",
       "       17, 18, 19, 20, 21, 22, 23, 24, 25, 26, 27, 28, 29, 30, 31, 32, 33,\n",
       "       34, 35])"
      ]
     },
     "execution_count": 97,
     "metadata": {},
     "output_type": "execute_result"
    }
   ],
   "source": [
    "m"
   ]
  },
  {
   "cell_type": "markdown",
   "metadata": {},
   "source": [
    "- Using the above 2 arrays, we will see how to slice and dice numpy arrays and index operations.\n",
    "<br>\n",
    "\n",
    "- Indexing (1 dimension array):\n",
    "    - We can use indices to retrieve the particular element in the array: `m[4]`\n",
    "    - We can use colon notation to retrieve a range of elements in the array: `m[1:5]`\n",
    "    - We can use negative indices to count back from the end of the array\n",
    "    - The double colon operator: `::` specifies the start, end and step size"
   ]
  },
  {
   "cell_type": "code",
   "execution_count": 98,
   "metadata": {
    "collapsed": false
   },
   "outputs": [
    {
     "name": "stdout",
     "output_type": "stream",
     "text": [
      "4\n",
      "[1 2 3 4]\n",
      "[32 33 34 35]\n",
      "[28 26 24 22 20 18 16 14 12 10  8  6  4  2  0]\n"
     ]
    }
   ],
   "source": [
    "print(m[4])\n",
    "print(m[1:5])\n",
    "print(m[-4:])\n",
    "print(m[-8::-2])"
   ]
  },
  {
   "cell_type": "code",
   "execution_count": 105,
   "metadata": {
    "collapsed": false
   },
   "outputs": [
    {
     "name": "stdout",
     "output_type": "stream",
     "text": [
      "[28 30 32]\n"
     ]
    }
   ],
   "source": [
    "print(m[-8:-2:2]) # start from 8th last till second last (exclusive), traversing forward skipping by 2"
   ]
  },
  {
   "cell_type": "code",
   "execution_count": 106,
   "metadata": {
    "collapsed": false
   },
   "outputs": [
    {
     "name": "stdout",
     "output_type": "stream",
     "text": [
      "[28 26 24 22 20 18 16 14 12 10  8  6]\n"
     ]
    }
   ],
   "source": [
    "print(m[-8:4:-2]) # start from 8th last till 4th element (exclusinve), traversing back skipping by 2"
   ]
  },
  {
   "cell_type": "code",
   "execution_count": 107,
   "metadata": {
    "collapsed": false
   },
   "outputs": [
    {
     "name": "stdout",
     "output_type": "stream",
     "text": [
      "[2 5 8]\n"
     ]
    }
   ],
   "source": [
    "print(m[2:10:3]) # start from 3rd element till 10th skipping by 3 traversing forward"
   ]
  },
  {
   "cell_type": "code",
   "execution_count": 110,
   "metadata": {
    "collapsed": false
   },
   "outputs": [
    {
     "name": "stdout",
     "output_type": "stream",
     "text": [
      "[10  7  4]\n"
     ]
    }
   ],
   "source": [
    "print(m[10:2:-3]) # start from 11th element till 2nd (exclusive) traversing back skipping 3"
   ]
  },
  {
   "cell_type": "markdown",
   "metadata": {},
   "source": [
    "- Indexing (2 dimension array):\n",
    "    - Comma notation to get the element in a specified location: `n[2,2]`\n",
    "    - Slice of the row including columns specified: `n[2, 3:6]`\n",
    "    - Get first 2 rows and all columns except the last: `n[:2, :-1]`\n",
    "    - Select every 2 element from the last row: `n[-1, ::2]`\n",
    "- Conditional assignment:\n",
    "    - We can specify the condition in the brackets: `n[n > 20]`\n",
    "    - Cap the max element in the array to 30: `n[n>30] = 30` ==> all elements above 30 will be set to 30 in this line   "
   ]
  },
  {
   "cell_type": "code",
   "execution_count": 113,
   "metadata": {
    "collapsed": false
   },
   "outputs": [
    {
     "name": "stdout",
     "output_type": "stream",
     "text": [
      "14\n",
      "[15 16 17]\n",
      "[[ 0  1  2  3  4]\n",
      " [ 6  7  8  9 10]]\n",
      "[30 32 34]\n",
      "[21 22 23 24 25 26 27 28 29 30 31 32 33 34 35]\n",
      "[[ 0  1  2  3  4  5]\n",
      " [ 6  7  8  9 10 11]\n",
      " [12 13 14 15 16 17]\n",
      " [18 19 20 21 22 23]\n",
      " [24 25 26 27 28 29]\n",
      " [30 30 30 30 30 30]]\n"
     ]
    }
   ],
   "source": [
    "print(n[2,2])\n",
    "print(n[2, 3:6])\n",
    "print(n[:2, :-1])\n",
    "print(n[-1, ::2])\n",
    "print(n[n > 20])\n",
    "n[n>30]=30\n",
    "print(n)"
   ]
  },
  {
   "cell_type": "markdown",
   "metadata": {},
   "source": [
    "- We can do assignments by splicing, but any change to the extracted splice is reflected in the original array"
   ]
  },
  {
   "cell_type": "code",
   "execution_count": 114,
   "metadata": {
    "collapsed": true
   },
   "outputs": [],
   "source": [
    "n = np.arange(0,36,1).reshape(6,6)"
   ]
  },
  {
   "cell_type": "code",
   "execution_count": 115,
   "metadata": {
    "collapsed": false
   },
   "outputs": [
    {
     "data": {
      "text/plain": [
       "array([[ 0,  1,  2,  3,  4,  5],\n",
       "       [ 6,  7,  8,  9, 10, 11],\n",
       "       [12, 13, 14, 15, 16, 17],\n",
       "       [18, 19, 20, 21, 22, 23],\n",
       "       [24, 25, 26, 27, 28, 29],\n",
       "       [30, 31, 32, 33, 34, 35]])"
      ]
     },
     "execution_count": 115,
     "metadata": {},
     "output_type": "execute_result"
    }
   ],
   "source": [
    "n"
   ]
  },
  {
   "cell_type": "code",
   "execution_count": 116,
   "metadata": {
    "collapsed": true
   },
   "outputs": [],
   "source": [
    "nn = np.arange(0,25,1).reshape(5,5)"
   ]
  },
  {
   "cell_type": "code",
   "execution_count": 117,
   "metadata": {
    "collapsed": true
   },
   "outputs": [],
   "source": [
    "nn_slice = nn[:3,:3]"
   ]
  },
  {
   "cell_type": "code",
   "execution_count": 118,
   "metadata": {
    "collapsed": false
   },
   "outputs": [
    {
     "data": {
      "text/plain": [
       "array([[ 0,  1,  2,  3,  4],\n",
       "       [ 5,  6,  7,  8,  9],\n",
       "       [10, 11, 12, 13, 14],\n",
       "       [15, 16, 17, 18, 19],\n",
       "       [20, 21, 22, 23, 24]])"
      ]
     },
     "execution_count": 118,
     "metadata": {},
     "output_type": "execute_result"
    }
   ],
   "source": [
    "nn"
   ]
  },
  {
   "cell_type": "code",
   "execution_count": 119,
   "metadata": {
    "collapsed": false
   },
   "outputs": [
    {
     "data": {
      "text/plain": [
       "array([[ 0,  1,  2],\n",
       "       [ 5,  6,  7],\n",
       "       [10, 11, 12]])"
      ]
     },
     "execution_count": 119,
     "metadata": {},
     "output_type": "execute_result"
    }
   ],
   "source": [
    "nn_slice"
   ]
  },
  {
   "cell_type": "code",
   "execution_count": 120,
   "metadata": {
    "collapsed": true
   },
   "outputs": [],
   "source": [
    "nn_slice[:] = 0"
   ]
  },
  {
   "cell_type": "code",
   "execution_count": 121,
   "metadata": {
    "collapsed": false
   },
   "outputs": [
    {
     "data": {
      "text/plain": [
       "array([[0, 0, 0],\n",
       "       [0, 0, 0],\n",
       "       [0, 0, 0]])"
      ]
     },
     "execution_count": 121,
     "metadata": {},
     "output_type": "execute_result"
    }
   ],
   "source": [
    "nn_slice"
   ]
  },
  {
   "cell_type": "code",
   "execution_count": 122,
   "metadata": {
    "collapsed": false
   },
   "outputs": [
    {
     "data": {
      "text/plain": [
       "array([[ 0,  0,  0,  3,  4],\n",
       "       [ 0,  0,  0,  8,  9],\n",
       "       [ 0,  0,  0, 13, 14],\n",
       "       [15, 16, 17, 18, 19],\n",
       "       [20, 21, 22, 23, 24]])"
      ]
     },
     "execution_count": 122,
     "metadata": {},
     "output_type": "execute_result"
    }
   ],
   "source": [
    "nn"
   ]
  },
  {
   "cell_type": "markdown",
   "metadata": {},
   "source": [
    "- Notice how the extracted slice is also zero in the original array\n",
    "- To circumvent this problem, we need to use the `copy` function"
   ]
  },
  {
   "cell_type": "code",
   "execution_count": 123,
   "metadata": {
    "collapsed": true
   },
   "outputs": [],
   "source": [
    "nn = np.arange(0,25,1).reshape(5,5)"
   ]
  },
  {
   "cell_type": "code",
   "execution_count": 124,
   "metadata": {
    "collapsed": true
   },
   "outputs": [],
   "source": [
    "nn_slice = nn[:3,:3].copy()"
   ]
  },
  {
   "cell_type": "code",
   "execution_count": 125,
   "metadata": {
    "collapsed": false
   },
   "outputs": [
    {
     "name": "stdout",
     "output_type": "stream",
     "text": [
      "[[ 0  1  2  3  4]\n",
      " [ 5  6  7  8  9]\n",
      " [10 11 12 13 14]\n",
      " [15 16 17 18 19]\n",
      " [20 21 22 23 24]]\n",
      "[[ 0  1  2]\n",
      " [ 5  6  7]\n",
      " [10 11 12]]\n"
     ]
    }
   ],
   "source": [
    "print(nn)\n",
    "print(nn_slice)"
   ]
  },
  {
   "cell_type": "code",
   "execution_count": 126,
   "metadata": {
    "collapsed": true
   },
   "outputs": [],
   "source": [
    "nn_slice[:]= 100"
   ]
  },
  {
   "cell_type": "code",
   "execution_count": 127,
   "metadata": {
    "collapsed": false
   },
   "outputs": [
    {
     "name": "stdout",
     "output_type": "stream",
     "text": [
      "[[ 0  1  2  3  4]\n",
      " [ 5  6  7  8  9]\n",
      " [10 11 12 13 14]\n",
      " [15 16 17 18 19]\n",
      " [20 21 22 23 24]]\n",
      "[[100 100 100]\n",
      " [100 100 100]\n",
      " [100 100 100]]\n"
     ]
    }
   ],
   "source": [
    "print(nn)\n",
    "print(nn_slice)"
   ]
  },
  {
   "cell_type": "markdown",
   "metadata": {},
   "source": [
    "### Iterating over arrays\n",
    "\n",
    "- Iterate by row using `for row in array: ...`\n",
    "- Iterate by row index using the length `len()` function which returns the number of rows\n",
    "- We can combine the above 2 using `enumerate` which gives the row and the index of the row\n",
    "- We can iterate through multiple arrays using the `zip()` function"
   ]
  },
  {
   "cell_type": "code",
   "execution_count": 128,
   "metadata": {
    "collapsed": true
   },
   "outputs": [],
   "source": [
    "test = np.random.randint(0,10,(4,3))"
   ]
  },
  {
   "cell_type": "code",
   "execution_count": 129,
   "metadata": {
    "collapsed": false
   },
   "outputs": [
    {
     "data": {
      "text/plain": [
       "array([[0, 0, 0],\n",
       "       [7, 0, 9],\n",
       "       [7, 7, 7],\n",
       "       [3, 9, 5]])"
      ]
     },
     "execution_count": 129,
     "metadata": {},
     "output_type": "execute_result"
    }
   ],
   "source": [
    "test"
   ]
  },
  {
   "cell_type": "code",
   "execution_count": 130,
   "metadata": {
    "collapsed": false
   },
   "outputs": [
    {
     "name": "stdout",
     "output_type": "stream",
     "text": [
      "[0 0 0]\n",
      "[7 0 9]\n",
      "[7 7 7]\n",
      "[3 9 5]\n"
     ]
    }
   ],
   "source": [
    "for row in test:\n",
    "    print(row)"
   ]
  },
  {
   "cell_type": "code",
   "execution_count": 131,
   "metadata": {
    "collapsed": false
   },
   "outputs": [
    {
     "name": "stdout",
     "output_type": "stream",
     "text": [
      "[0 0 0]\n",
      "[7 0 9]\n",
      "[7 7 7]\n",
      "[3 9 5]\n"
     ]
    }
   ],
   "source": [
    "for i in range(len(test)): # len returns the number of rows\n",
    "    print(test[i])"
   ]
  },
  {
   "cell_type": "code",
   "execution_count": 132,
   "metadata": {
    "collapsed": false
   },
   "outputs": [
    {
     "name": "stdout",
     "output_type": "stream",
     "text": [
      "row:  0  :  [0 0 0]\n",
      "row:  1  :  [7 0 9]\n",
      "row:  2  :  [7 7 7]\n",
      "row:  3  :  [3 9 5]\n"
     ]
    }
   ],
   "source": [
    "for i, row in enumerate(test):\n",
    "    print('row: ', i, ' : ', row)"
   ]
  },
  {
   "cell_type": "code",
   "execution_count": 133,
   "metadata": {
    "collapsed": true
   },
   "outputs": [],
   "source": [
    "test2 = test**2 # square all elements of test and assign it to test2"
   ]
  },
  {
   "cell_type": "code",
   "execution_count": 134,
   "metadata": {
    "collapsed": false
   },
   "outputs": [
    {
     "data": {
      "text/plain": [
       "array([[ 0,  0,  0],\n",
       "       [49,  0, 81],\n",
       "       [49, 49, 49],\n",
       "       [ 9, 81, 25]])"
      ]
     },
     "execution_count": 134,
     "metadata": {},
     "output_type": "execute_result"
    }
   ],
   "source": [
    "test2"
   ]
  },
  {
   "cell_type": "code",
   "execution_count": 136,
   "metadata": {
    "collapsed": false
   },
   "outputs": [
    {
     "name": "stdout",
     "output_type": "stream",
     "text": [
      "[0 0 0] + [0 0 0]  =  [0 0 0]\n",
      "[7 0 9] + [49  0 81]  =  [56  0 90]\n",
      "[7 7 7] + [49 49 49]  =  [56 56 56]\n",
      "[3 9 5] + [ 9 81 25]  =  [12 90 30]\n"
     ]
    }
   ],
   "source": [
    "for i,j in zip(test, test2):\n",
    "    print(i, '+', j ,' = ', i+j)"
   ]
  },
  {
   "cell_type": "code",
   "execution_count": null,
   "metadata": {
    "collapsed": true
   },
   "outputs": [],
   "source": []
  }
 ],
 "metadata": {
  "kernelspec": {
   "display_name": "Python [default]",
   "language": "python",
   "name": "python3"
  },
  "language_info": {
   "codemirror_mode": {
    "name": "ipython",
    "version": 3
   },
   "file_extension": ".py",
   "mimetype": "text/x-python",
   "name": "python",
   "nbconvert_exporter": "python",
   "pygments_lexer": "ipython3",
   "version": "3.5.2"
  }
 },
 "nbformat": 4,
 "nbformat_minor": 1
}
