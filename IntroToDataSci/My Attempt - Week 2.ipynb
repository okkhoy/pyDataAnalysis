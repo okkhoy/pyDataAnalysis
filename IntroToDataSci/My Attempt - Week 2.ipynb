{
 "cells": [
  {
   "cell_type": "markdown",
   "metadata": {},
   "source": [
    "# Exploring Pandas"
   ]
  },
  {
   "cell_type": "markdown",
   "metadata": {},
   "source": [
    "## Series data structure \n",
    "\n",
    "- Cross between list and a dictionary.\n",
    "    - Items are stored in order, and there are labels with which we can retrieve data.\n",
    "    - The data type is automatically identified when we store it as/in `Series`.\n",
    "    - Data column has a label and can be retrieved using the `.name` attribute.\n",
    "    - To create a series, we can pass data, index and a name.\n",
    "        - If we don't pass in index or name, Pandas creates a default index starting at 0 and assigns name as `None`."
   ]
  },
  {
   "cell_type": "code",
   "execution_count": 1,
   "metadata": {
    "collapsed": true
   },
   "outputs": [],
   "source": [
    "import pandas as pd\n",
    "pd.Series?"
   ]
  },
  {
   "cell_type": "code",
   "execution_count": 2,
   "metadata": {
    "collapsed": false
   },
   "outputs": [
    {
     "data": {
      "text/plain": [
       "0    Tiger\n",
       "1     Bear\n",
       "2      Dog\n",
       "3      Cat\n",
       "dtype: object"
      ]
     },
     "execution_count": 2,
     "metadata": {},
     "output_type": "execute_result"
    }
   ],
   "source": [
    "animals = ['Tiger', 'Bear', 'Dog', 'Cat']\n",
    "pd.Series(animals)"
   ]
  },
  {
   "cell_type": "markdown",
   "metadata": {},
   "source": [
    "#### Internal storage\n",
    "- Pandas stores the series values in a typed array using numpy library. This gives improvement in speed of processing.\n",
    "\n",
    "#### Missing data\n",
    "- Python provides `None` type for missing data or lack of data\n",
    "- In case of a typed object like the `Series`, Pandas does some type conversion\n",
    "    - For a list of strings and missing one element (indicated by `None`), Pandas inserts it as a `None` and uses the type object for the underlying array.\n",
    "    - For a list of integers or floating point numbers and introduce a `None` element, Pandas converts this to a special floating point value designated as `NAN` (stands for not a number). \n",
    "        - We cannot do equality tests on `NAN`; `NAN` compared to itself gives `False` always.\n",
    "        - Need to use special functions to test for the presence of `NAN` (e.g., numpy's `isNAN`)."
   ]
  },
  {
   "cell_type": "code",
   "execution_count": 3,
   "metadata": {
    "collapsed": false
   },
   "outputs": [
    {
     "data": {
      "text/plain": [
       "0    Tiger\n",
       "1      Cat\n",
       "2     None\n",
       "3      Fox\n",
       "dtype: object"
      ]
     },
     "execution_count": 3,
     "metadata": {},
     "output_type": "execute_result"
    }
   ],
   "source": [
    "# Examples:\n",
    "animals = ['Tiger', 'Cat', None, 'Fox']\n",
    "pd.Series(animals)"
   ]
  },
  {
   "cell_type": "code",
   "execution_count": 4,
   "metadata": {
    "collapsed": false
   },
   "outputs": [
    {
     "data": {
      "text/plain": [
       "0    1.0\n",
       "1    2.0\n",
       "2    3.0\n",
       "3    NaN\n",
       "dtype: float64"
      ]
     },
     "execution_count": 4,
     "metadata": {},
     "output_type": "execute_result"
    }
   ],
   "source": [
    "numbers = [1, 2, 3, None]\n",
    "pd.Series(numbers)"
   ]
  },
  {
   "cell_type": "markdown",
   "metadata": {},
   "source": [
    "### Creating Series data\n",
    "\n",
    "- We can create a Pandas `Series` by passing it any array-like data (in the previous examples, we passed in a `list` of elements).\n",
    "- We can use `tuples` or `dictionary`.\n",
    "    - Often times, data has labels and we can use these labels to manipulate data.\n",
    "- When we create a `Series` from `dictionary` data, the index is automatically assigned to keys of the dictionary.\n",
    "    - By default, if no index info is given, incrementing integers are used as indices. "
   ]
  },
  {
   "cell_type": "code",
   "execution_count": 6,
   "metadata": {
    "collapsed": false
   },
   "outputs": [
    {
     "data": {
      "text/plain": [
       "Archery           Bhutan\n",
       "Gold            Scotland\n",
       "Sumo               Japan\n",
       "Taekwondo    South Korea\n",
       "dtype: object"
      ]
     },
     "execution_count": 6,
     "metadata": {},
     "output_type": "execute_result"
    }
   ],
   "source": [
    "sports = {'Archery' : 'Bhutan', 'Gold' : 'Scotland',\n",
    "         'Sumo' : 'Japan', 'Taekwondo' : 'South Korea'}\n",
    "s = pd.Series(sports)\n",
    "s"
   ]
  },
  {
   "cell_type": "markdown",
   "metadata": {},
   "source": [
    "- Once the `Series` is created, we can get the index object using the `index` attribute"
   ]
  },
  {
   "cell_type": "code",
   "execution_count": 7,
   "metadata": {
    "collapsed": false
   },
   "outputs": [
    {
     "data": {
      "text/plain": [
       "Index(['Archery', 'Gold', 'Sumo', 'Taekwondo'], dtype='object')"
      ]
     },
     "execution_count": 7,
     "metadata": {},
     "output_type": "execute_result"
    }
   ],
   "source": [
    "s.index"
   ]
  },
  {
   "cell_type": "markdown",
   "metadata": {},
   "source": [
    "- We can also pass the index explicitly to the `Series` object.\n",
    "    - Index is passed as a list of values.\n",
    "- If the index values provided don't match the dictionary keys, Pandas overrides the default indices creation from the dictionary in favor of only and all the indices provided by the programmer.\n",
    "    - Pandas will ignore it from your dictionary, all keys, which are not in your index, and pandas will add `None` type or `NAN` values for any index value you provide, which is not in your dictionary key list."
   ]
  },
  {
   "cell_type": "code",
   "execution_count": 8,
   "metadata": {
    "collapsed": true
   },
   "outputs": [],
   "source": [
    "a = pd.Series(['Tiger', 'Bear', 'Moose'], index=['India', 'America', 'Canada'])"
   ]
  },
  {
   "cell_type": "code",
   "execution_count": 9,
   "metadata": {
    "collapsed": false
   },
   "outputs": [
    {
     "data": {
      "text/plain": [
       "India      Tiger\n",
       "America     Bear\n",
       "Canada     Moose\n",
       "dtype: object"
      ]
     },
     "execution_count": 9,
     "metadata": {},
     "output_type": "execute_result"
    }
   ],
   "source": [
    "a"
   ]
  },
  {
   "cell_type": "code",
   "execution_count": 10,
   "metadata": {
    "collapsed": false
   },
   "outputs": [
    {
     "data": {
      "text/plain": [
       "Archery    Bhutan\n",
       "Polo          NaN\n",
       "Sumo        Japan\n",
       "dtype: object"
      ]
     },
     "execution_count": 10,
     "metadata": {},
     "output_type": "execute_result"
    }
   ],
   "source": [
    "pd.Series(sports, index = ['Archery', 'Polo', 'Sumo'])"
   ]
  },
  {
   "cell_type": "markdown",
   "metadata": {},
   "source": [
    "- Notice how `Polo` got assigned to `NaN` and `Taekwondo` was ignored from the `sports` dictionary."
   ]
  },
  {
   "cell_type": "markdown",
   "metadata": {},
   "source": [
    "###  Querying a `Series`\n",
    "\n",
    "- Pandas series can be queried by either the index label or the index position. \n",
    "    - To query by the numeric location, use `iloc` attribute.\n",
    "    - To query by the index label, use the `loc` attribute.\n",
    "    - If you pass an integer directly to the `Series` object, Pandas treats it as `iloc` attribute.\n",
    "    - Similarly, if you pass the object, Pandas will query as if the label was used and treats it as `loc` attribute.\n",
    "    - **Safer to use the iloc or loc attribute than direct index number or label**"
   ]
  },
  {
   "cell_type": "code",
   "execution_count": 11,
   "metadata": {
    "collapsed": false
   },
   "outputs": [
    {
     "data": {
      "text/plain": [
       "Archery           Bhutan\n",
       "Gold            Scotland\n",
       "Sumo               Japan\n",
       "Taekwondo    South Korea\n",
       "dtype: object"
      ]
     },
     "execution_count": 11,
     "metadata": {},
     "output_type": "execute_result"
    }
   ],
   "source": [
    "s"
   ]
  },
  {
   "cell_type": "code",
   "execution_count": 13,
   "metadata": {
    "collapsed": false
   },
   "outputs": [
    {
     "data": {
      "text/plain": [
       "'Japan'"
      ]
     },
     "execution_count": 13,
     "metadata": {},
     "output_type": "execute_result"
    }
   ],
   "source": [
    "s.iloc[2]"
   ]
  },
  {
   "cell_type": "code",
   "execution_count": 14,
   "metadata": {
    "collapsed": false
   },
   "outputs": [
    {
     "data": {
      "text/plain": [
       "'Bhutan'"
      ]
     },
     "execution_count": 14,
     "metadata": {},
     "output_type": "execute_result"
    }
   ],
   "source": [
    "s.loc['Archery']"
   ]
  },
  {
   "cell_type": "code",
   "execution_count": 15,
   "metadata": {
    "collapsed": false
   },
   "outputs": [
    {
     "data": {
      "text/plain": [
       "'Japan'"
      ]
     },
     "execution_count": 15,
     "metadata": {},
     "output_type": "execute_result"
    }
   ],
   "source": [
    "s[2]"
   ]
  },
  {
   "cell_type": "code",
   "execution_count": 16,
   "metadata": {
    "collapsed": false
   },
   "outputs": [
    {
     "data": {
      "text/plain": [
       "'South Korea'"
      ]
     },
     "execution_count": 16,
     "metadata": {},
     "output_type": "execute_result"
    }
   ],
   "source": [
    "s['Taekwondo']"
   ]
  },
  {
   "cell_type": "code",
   "execution_count": 17,
   "metadata": {
    "collapsed": true
   },
   "outputs": [],
   "source": [
    "# Task: to iterate over all items in the series, add and get total\n",
    "p = pd.Series([100, 120.0, 101.0, 35.50, 20])"
   ]
  },
  {
   "cell_type": "code",
   "execution_count": 18,
   "metadata": {
    "collapsed": false
   },
   "outputs": [
    {
     "name": "stdout",
     "output_type": "stream",
     "text": [
      "376.5\n"
     ]
    }
   ],
   "source": [
    "total = 0\n",
    "for item in p:\n",
    "    total += item\n",
    "print(total)"
   ]
  },
  {
   "cell_type": "markdown",
   "metadata": {},
   "source": [
    "#### Vectorization\n",
    "- Pandas and underlying numpy libraries support [vectorization](https://en.wikipedia.org/wiki/Array_programming)\n",
    "- "
   ]
  },
  {
   "cell_type": "code",
   "execution_count": null,
   "metadata": {
    "collapsed": true
   },
   "outputs": [],
   "source": []
  }
 ],
 "metadata": {
  "anaconda-cloud": {},
  "kernelspec": {
   "display_name": "Python [default]",
   "language": "python",
   "name": "python3"
  },
  "language_info": {
   "codemirror_mode": {
    "name": "ipython",
    "version": 3
   },
   "file_extension": ".py",
   "mimetype": "text/x-python",
   "name": "python",
   "nbconvert_exporter": "python",
   "pygments_lexer": "ipython3",
   "version": "3.5.2"
  }
 },
 "nbformat": 4,
 "nbformat_minor": 1
}
